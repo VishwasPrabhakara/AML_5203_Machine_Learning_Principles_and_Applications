{
  "cells": [
    {
      "cell_type": "markdown",
      "metadata": {
        "id": "mk4-Hpe1CH16"
      },
      "source": [
        "## Setup"
      ]
    },
    {
      "cell_type": "code",
      "execution_count": 1,
      "metadata": {
        "id": "RutaI-Tpev3T"
      },
      "outputs": [],
      "source": [
        "import io\n",
        "import re\n",
        "import string\n",
        "import tqdm\n",
        "\n",
        "import numpy as np\n",
        "\n",
        "import tensorflow as tf\n",
        "from tensorflow.keras import layers"
      ]
    },
    {
      "cell_type": "code",
      "execution_count": 2,
      "metadata": {
        "id": "10pyUMFkGKVQ"
      },
      "outputs": [],
      "source": [
        "# Load the TensorBoard notebook extension\n",
        "%load_ext tensorboard"
      ]
    },
    {
      "cell_type": "code",
      "execution_count": 3,
      "metadata": {
        "id": "XkJ5299Tek6B"
      },
      "outputs": [],
      "source": [
        "SEED = 42\n",
        "AUTOTUNE = tf.data.AUTOTUNE"
      ]
    },
    {
      "cell_type": "markdown",
      "metadata": {
        "id": "RW-g5buCHwh3"
      },
      "source": [
        "### Vectorize an example sentence"
      ]
    },
    {
      "cell_type": "markdown",
      "metadata": {
        "id": "9wmdO_MEIpaM"
      },
      "source": [
        "## Compile all steps into one function\n"
      ]
    },
    {
      "cell_type": "markdown",
      "metadata": {
        "id": "iLKwNAczHsKg"
      },
      "source": [
        "### Skip-gram sampling table"
      ]
    },
    {
      "cell_type": "markdown",
      "metadata": {
        "id": "TUUK3uDtFNFE"
      },
      "source": [
        "A large dataset means larger vocabulary with higher number of more frequent words such as stopwords. Training examples obtained from sampling commonly occurring words (such as `the`, `is`, `on`) don't add much useful information  for the model to learn from. [Mikolov et al.](https://papers.nips.cc/paper/5021-distributed-representations-of-words-and-phrases-and-their-compositionality.pdf) suggest subsampling of frequent words as a helpful practice to improve embedding quality."
      ]
    },
    {
      "cell_type": "markdown",
      "metadata": {
        "id": "bPtbv7zNP7Dx"
      },
      "source": [
        "The `tf.keras.preprocessing.sequence.skipgrams` function accepts a sampling table argument to encode probabilities of sampling any token. You can use the `tf.keras.preprocessing.sequence.make_sampling_table` to  generate a word-frequency rank based probabilistic sampling table and pass it to the `skipgrams` function. Inspect the sampling probabilities for a `vocab_size` of 10."
      ]
    },
    {
      "cell_type": "code",
      "execution_count": null,
      "metadata": {
        "id": "Rn9zAnDccyRg",
        "colab": {
          "base_uri": "https://localhost:8080/"
        },
        "outputId": "c4fbda7a-f370-4f3a-f0d6-0d03d8b185da"
      },
      "outputs": [
        {
          "output_type": "stream",
          "name": "stdout",
          "text": [
            "[0.00315225 0.00315225 0.00547597 0.00741556 0.00912817 0.01068435\n",
            " 0.01212381 0.01347162 0.01474487 0.0159558 ]\n"
          ]
        }
      ],
      "source": [
        "sampling_table = tf.keras.preprocessing.sequence.make_sampling_table(size=10)\n",
        "print(sampling_table)"
      ]
    },
    {
      "cell_type": "markdown",
      "metadata": {
        "id": "EHvSptcPk5fp"
      },
      "source": [
        "`sampling_table[i]` denotes the probability of sampling the i-th most common word in a dataset. The function assumes a [Zipf's distribution](https://en.wikipedia.org/wiki/Zipf%27s_law) of the word frequencies for sampling."
      ]
    },
    {
      "cell_type": "markdown",
      "metadata": {
        "id": "mRHMssMmHgH-"
      },
      "source": [
        "Key point: The `tf.random.log_uniform_candidate_sampler` already assumes that the vocabulary frequency follows a log-uniform (Zipf's) distribution. Using these distribution weighted sampling also helps approximate the Noise Contrastive Estimation (NCE) loss with simpler loss functions for training a negative sampling objective."
      ]
    },
    {
      "cell_type": "markdown",
      "metadata": {
        "id": "aj--8RFK6fgW"
      },
      "source": [
        "### Generate training data"
      ]
    },
    {
      "cell_type": "markdown",
      "metadata": {
        "id": "dy5hl4lQ0B2M"
      },
      "source": [
        "Compile all the steps described above into a function that can be called on a list of vectorized sentences obtained from any text dataset. Notice that the sampling table is built before sampling skip-gram word pairs. You will use this function in the later sections."
      ]
    },
    {
      "cell_type": "code",
      "execution_count": null,
      "metadata": {
        "id": "63INISDEX1Hu"
      },
      "outputs": [],
      "source": [
        "# Generates skip-gram pairs with negative sampling for a list of sequences\n",
        "# (int-encoded sentences) based on window size, number of negative samples\n",
        "# and vocabulary size.\n",
        "def generate_training_data(sequences, window_size, num_ns, vocab_size, seed):\n",
        "  # Elements of each training example are appended to these lists.\n",
        "  targets, contexts, labels = [], [], []\n",
        "\n",
        "  # Build the sampling table for `vocab_size` tokens.\n",
        "  sampling_table = tf.keras.preprocessing.sequence.make_sampling_table(vocab_size)\n",
        "\n",
        "  # Iterate over all sequences (sentences) in the dataset.\n",
        "  for sequence in tqdm.tqdm(sequences):\n",
        "\n",
        "    # Generate positive skip-gram pairs for a sequence (sentence).\n",
        "    positive_skip_grams, _ = tf.keras.preprocessing.sequence.skipgrams(\n",
        "          sequence,\n",
        "          vocabulary_size=vocab_size,\n",
        "          sampling_table=sampling_table,\n",
        "          window_size=window_size,\n",
        "          negative_samples=0)\n",
        "\n",
        "    # Iterate over each positive skip-gram pair to produce training examples\n",
        "    # with a positive context word and negative samples.\n",
        "    for target_word, context_word in positive_skip_grams:\n",
        "      context_class = tf.expand_dims(\n",
        "          tf.constant([context_word], dtype=\"int64\"), 1)\n",
        "      negative_sampling_candidates, _, _ = tf.random.log_uniform_candidate_sampler(\n",
        "          true_classes=context_class,\n",
        "          num_true=1,\n",
        "          num_sampled=num_ns,\n",
        "          unique=True,\n",
        "          range_max=vocab_size,\n",
        "          seed=seed,\n",
        "          name=\"negative_sampling\")\n",
        "\n",
        "      # Build context and label vectors (for one target word)\n",
        "      context = tf.concat([tf.squeeze(context_class,1), negative_sampling_candidates], 0)\n",
        "      label = tf.constant([1] + [0]*num_ns, dtype=\"int64\")\n",
        "\n",
        "      # Append each element from the training example to global lists.\n",
        "      targets.append(target_word)\n",
        "      contexts.append(context)\n",
        "      labels.append(label)\n",
        "\n",
        "  return targets, contexts, labels"
      ]
    },
    {
      "cell_type": "markdown",
      "metadata": {
        "id": "shvPC8Ji2cMK"
      },
      "source": [
        "## Prepare training data for word2vec"
      ]
    },
    {
      "cell_type": "markdown",
      "metadata": {
        "id": "j5mbZsZu6uKg"
      },
      "source": [
        "With an understanding of how to work with one sentence for a skip-gram negative sampling based word2vec model, you can proceed to generate training examples from a larger list of sentences!"
      ]
    },
    {
      "cell_type": "markdown",
      "metadata": {
        "id": "OFlikI6L26nh"
      },
      "source": [
        "### Download text corpus\n"
      ]
    },
    {
      "cell_type": "markdown",
      "metadata": {
        "id": "rEFavOgN98al"
      },
      "source": [
        "You will use a text file of Shakespeare's writing for this tutorial. Change the following line to run this code on your own data."
      ]
    },
    {
      "cell_type": "code",
      "source": [
        "from google.colab import drive\n",
        "drive.mount('/content/drive')"
      ],
      "metadata": {
        "colab": {
          "base_uri": "https://localhost:8080/"
        },
        "id": "OQ51D15yoO_S",
        "outputId": "fe3260da-7615-4fee-cc74-ec0334bd7065"
      },
      "execution_count": null,
      "outputs": [
        {
          "output_type": "stream",
          "name": "stdout",
          "text": [
            "Mounted at /content/drive\n"
          ]
        }
      ]
    },
    {
      "cell_type": "code",
      "source": [
        "import zipfile\n",
        "\n",
        "# Unzip the archive\n",
        "local_zip = '/content/drive/MyDrive/Colab Notebooks/Text.zip'\n",
        "zip_ref = zipfile.ZipFile(local_zip, 'r')\n",
        "zip_ref.extractall()\n",
        "\n",
        "zip_ref.close()"
      ],
      "metadata": {
        "id": "qyHW4BYDnoPn"
      },
      "execution_count": null,
      "outputs": []
    },
    {
      "cell_type": "code",
      "source": [
        "import os\n",
        "\n",
        "base_dir = 'Text'\n",
        "\n",
        "print(\"Contents of base directory:\")\n",
        "print(os.listdir(base_dir))\n",
        "\n",
        "print(\"\\nContents of AI directory:\")\n",
        "print(os.listdir(f'{base_dir}/AI'))\n",
        "\n",
        "print(\"\\nContents of NLP directory:\")\n",
        "print(os.listdir(f'{base_dir}/NLP'))"
      ],
      "metadata": {
        "colab": {
          "base_uri": "https://localhost:8080/"
        },
        "id": "ZpSIAafso5hn",
        "outputId": "66c4f4e2-f572-4185-cef8-feeaa021238b"
      },
      "execution_count": null,
      "outputs": [
        {
          "output_type": "stream",
          "name": "stdout",
          "text": [
            "Contents of base directory:\n",
            "['AI', 'Stats', 'NLP', 'CV']\n",
            "\n",
            "Contents of AI directory:\n",
            "['Artificial intelligence and education in China.pdf', '10.2478_rem-2020-0003.pdf', 's00146-020-01033-8.pdf', 'sustainability-13-07941.pdf', 'article_222831.pdf', 's10639-022-11316-w.pdf', 's43681-021-00096-7.pdf', 'Computer Assisted Learning - 2022 - Pham - The development of artificial intelligence in education  A review in context.pdf', 'sustainability-14-01101.pdf', '978-981-19-0351-9_6-2.pdf', '0346202012112271.pdf', '25_1_03.pdf', 'Artificial intelligence in education challenges and opportunities for sustainable development.pdf', 'fpsyg-11-580820.pdf', 's40593-016-0095-y.pdf', 'Artificial_Intelligence_in_Education_A_Review.pdf', 'Becker-AI-in-Education-with-cover-sheet.pdf', 'Artificial intelligence for education  Knowledge and its assessment in AI-enabled learning ecologies.pdf', 'document.pdf', 's40593-016-0110-3.pdf', 'd37ca3f650e9f72613189003a8c49eddb75b.pdf', '1984-5745-1-PB.pdf', 'information-13-00014-v2.pdf', 'FULLARTICLEARTIFICIALINTELLIGENCE.pdf', '12850_Yufei_2020_E_R1.pdf', '1-s2.0-S2666920X2100014X-main.pdf']\n",
            "\n",
            "Contents of NLP directory:\n",
            "['Advances_in_Natural_Language_Processing.pdf', 'doc4.pdf', 'Using natural language processing technology for qualitative data analysis.pdf', 'doc10.pdf', 'Meurers-20.pdf', 'doc3.pdf', '3027385.3027399.pdf', 'doc7.pdf', 'Using natural language processing to support peerfeedback in the age of.pdf', 'MooreJ_Using Natural Language Processing.pdf', 'doc2.pdf', 'A Call to Action on Artificial Intelligence and Social Work Education  Lessons Learned from A Simulation Project Using Natural Language Processing.pdf', 'ED636433.pdf', '2883851.2883932.pdf', 'A_Review_of_the_Trends_and_Challenges_in_Adopting_Natural_Language_Processing_Methods_for_Education_Feedback_Analysis.pdf', 'PhysRevPhysEducRes.16.010142.pdf', 'doc5.pdf', 'strathprints002611.pdf', '3626252.3630881.pdf', 'Exploring the potential of natural language processing to support microgenetic.pdf', 'doc1.pdf', 'doc6.pdf', 'Analyzing learner language  towards a flexible natural language processing architecture for intelligent language tutors.pdf', 'ETS_26_1_09.pdf.crdownload', 'A+Natural+Language+Processing+Approach+to+Grouping+Students+by+Shared+Interests.pdf', 'document.pdf', 'S2_0_S0950705106001912_main.pdf', \"Natural Language Processing with Python - O'Reilly2009.pdf\", 'Theemergentroleofartificialintelligencenaturallearningprocessingand.pdf', 'doc8.pdf', 'doc9.pdf', 'ED560539.pdf', 'Analyzing Discourse Processing Using a Simple Natural Language Processing Tool.pdf', 'document (1).pdf']\n"
          ]
        }
      ]
    },
    {
      "cell_type": "code",
      "source": [
        "main_dir_files = os.listdir(base_dir)\n",
        "main_dir_files"
      ],
      "metadata": {
        "colab": {
          "base_uri": "https://localhost:8080/"
        },
        "id": "70buPOHgsLqv",
        "outputId": "509e6ba7-653b-4580-a9c1-f71d64ae498c"
      },
      "execution_count": null,
      "outputs": [
        {
          "output_type": "execute_result",
          "data": {
            "text/plain": [
              "['AI', 'Stats', 'NLP', 'CV']"
            ]
          },
          "metadata": {},
          "execution_count": 11
        }
      ]
    },
    {
      "cell_type": "code",
      "source": [
        "!pip install PyPDF2"
      ],
      "metadata": {
        "colab": {
          "base_uri": "https://localhost:8080/"
        },
        "id": "IynQaR11r3QP",
        "outputId": "adeef69c-0519-4d04-ff60-7413b5e2f6ea"
      },
      "execution_count": null,
      "outputs": [
        {
          "output_type": "stream",
          "name": "stdout",
          "text": [
            "Requirement already satisfied: PyPDF2 in /usr/local/lib/python3.10/dist-packages (3.0.1)\n"
          ]
        }
      ]
    },
    {
      "cell_type": "code",
      "source": [
        "import PyPDF2\n",
        "\n",
        "for i in main_dir_files:\n",
        "  sub_dir_files = os.listdir(base_dir+'/'+i)\n",
        "  k=1\n",
        "  for j in sub_dir_files:\n",
        "    #create file object variable\n",
        "    #opening method will be rb\n",
        "    pdffileobj=open(base_dir+'/'+i+'/'+j,'rb')\n",
        "\n",
        "    #create reader variable that will read the pdffileobj\n",
        "    reader = PyPDF2.PdfReader(pdffileobj)\n",
        "\n",
        "    #This will store the number of pages of this pdf file\n",
        "    x = len(reader.pages)\n",
        "    text = ''\n",
        "    for pages in range(x):\n",
        "      page = reader.pages[pages]\n",
        "      text += page.extract_text()\n",
        "\n",
        "    #filename = 'file'+str(i)+str(k)\n",
        "    filename = open(base_dir+\"/\"+str(i)+\"/\"+str(k)+\".txt\", \"a\")\n",
        "    filename.writelines(text)\n",
        "    filename.close()\n",
        "    k+=1"
      ],
      "metadata": {
        "colab": {
          "base_uri": "https://localhost:8080/"
        },
        "id": "4E9clUm7rsU-",
        "outputId": "81ad562a-11be-4fda-9ed4-355ce9a5a1cf"
      },
      "execution_count": null,
      "outputs": [
        {
          "output_type": "stream",
          "name": "stderr",
          "text": [
            "/usr/local/lib/python3.10/dist-packages/PyPDF2/_cmap.py:142: PdfReadWarning: Advanced encoding /StandardEncoding not implemented yet\n",
            "  warnings.warn(\n"
          ]
        }
      ]
    },
    {
      "cell_type": "code",
      "source": [
        "train_ds = tf.keras.utils.text_dataset_from_directory(\n",
        "  base_dir,\n",
        "  validation_split=0.2,\n",
        "  subset=\"training\",\n",
        "  seed=123,\n",
        "  batch_size=10)"
      ],
      "metadata": {
        "colab": {
          "base_uri": "https://localhost:8080/"
        },
        "id": "ZDRrgxnqphCH",
        "outputId": "6b22b77f-91d6-41a9-9283-ea8ed5fa70e3"
      },
      "execution_count": null,
      "outputs": [
        {
          "output_type": "stream",
          "name": "stdout",
          "text": [
            "Found 117 files belonging to 4 classes.\n",
            "Using 94 files for training.\n"
          ]
        }
      ]
    },
    {
      "cell_type": "code",
      "source": [
        "val_ds = tf.keras.utils.text_dataset_from_directory(\n",
        "  base_dir,\n",
        "  validation_split=0.2,\n",
        "  subset=\"validation\",\n",
        "  seed=123,\n",
        "  batch_size=10)"
      ],
      "metadata": {
        "colab": {
          "base_uri": "https://localhost:8080/"
        },
        "id": "IPCvd1FH0K3A",
        "outputId": "81848b81-d14b-40fb-a623-4e3076ae9922"
      },
      "execution_count": null,
      "outputs": [
        {
          "output_type": "stream",
          "name": "stdout",
          "text": [
            "Found 117 files belonging to 4 classes.\n",
            "Using 23 files for validation.\n"
          ]
        }
      ]
    },
    {
      "cell_type": "code",
      "source": [
        "text_ds = tf.keras.utils.text_dataset_from_directory(\n",
        "  base_dir,\n",
        "  seed=123)"
      ],
      "metadata": {
        "colab": {
          "base_uri": "https://localhost:8080/"
        },
        "id": "6qfyJPKD23Uk",
        "outputId": "29c0ea42-381d-4031-f09d-5ff1b1c62aa0"
      },
      "execution_count": null,
      "outputs": [
        {
          "output_type": "stream",
          "name": "stdout",
          "text": [
            "Found 117 files belonging to 4 classes.\n"
          ]
        }
      ]
    },
    {
      "cell_type": "code",
      "source": [
        "doc_len = len(list(text_ds.as_numpy_iterator())[0][0])"
      ],
      "metadata": {
        "id": "UA8r8Zxg1OGT"
      },
      "execution_count": null,
      "outputs": []
    },
    {
      "cell_type": "markdown",
      "metadata": {
        "id": "vfsc88zE9upk"
      },
      "source": [
        "### Vectorize sentences from the corpus"
      ]
    },
    {
      "cell_type": "markdown",
      "metadata": {
        "id": "XfgZo8zR94KK"
      },
      "source": [
        "You can use the `TextVectorization` layer to vectorize sentences from the corpus. Learn more about using this layer in this [Text classification](https://www.tensorflow.org/tutorials/keras/text_classification) tutorial. Notice from the first few sentences above that the text needs to be in one case and punctuation needs to be removed. To do this, define a `custom_standardization function` that can be used in the TextVectorization layer."
      ]
    },
    {
      "cell_type": "code",
      "execution_count": null,
      "metadata": {
        "id": "2MlsXzo-ZlfK"
      },
      "outputs": [],
      "source": [
        "# Now, create a custom standardization function to lowercase the text and\n",
        "# remove punctuation.\n",
        "def custom_standardization(input_data):\n",
        "  lowercase = tf.strings.lower(input_data)\n",
        "  return tf.strings.regex_replace(lowercase,\n",
        "                                  '[%s]' % re.escape(string.punctuation), '')\n",
        "\n",
        "\n",
        "# Define the vocabulary size and the number of words in a sequence.\n",
        "vocab_size = 4096\n",
        "sequence_length = 10\n",
        "\n",
        "# Use the `TextVectorization` layer to normalize, split, and map strings to\n",
        "# integers. Set the `output_sequence_length` length to pad all samples to the\n",
        "# same length.\n",
        "vectorize_layer = layers.TextVectorization(\n",
        "    standardize=custom_standardization,\n",
        "    max_tokens=vocab_size,\n",
        "    output_mode='int',\n",
        "    output_sequence_length=sequence_length)"
      ]
    },
    {
      "cell_type": "markdown",
      "metadata": {
        "id": "g92LuvnyBmz1"
      },
      "source": [
        "Call `TextVectorization.adapt` on the text dataset to create vocabulary.\n"
      ]
    },
    {
      "cell_type": "code",
      "source": [
        "class_len = len(list(text_ds.as_numpy_iterator())[0])"
      ],
      "metadata": {
        "id": "lL6PVGiNAKNh"
      },
      "execution_count": null,
      "outputs": []
    },
    {
      "cell_type": "code",
      "source": [
        "# Generates skip-gram pairs with negative sampling for a list of sequences\n",
        "# (int-encoded sentences) based on window size, number of negative samples\n",
        "# and vocabulary size.\n",
        "def generate_training_data(sequences, window_size, num_ns, vocab_size, seed):\n",
        "  # Elements of each training example are appended to these lists.\n",
        "  targets, contexts, labels = [], [], []\n",
        "\n",
        "  # Build the sampling table for `vocab_size` tokens.\n",
        "  sampling_table = tf.keras.preprocessing.sequence.make_sampling_table(vocab_size)\n",
        "\n",
        "  # Iterate over all sequences (sentences) in the dataset.\n",
        "  for sequence in tqdm.tqdm(sequences):\n",
        "\n",
        "    # Generate positive skip-gram pairs for a sequence (sentence).\n",
        "    positive_skip_grams, _ = tf.keras.preprocessing.sequence.skipgrams(\n",
        "          sequence,\n",
        "          vocabulary_size=vocab_size,\n",
        "          sampling_table=sampling_table,\n",
        "          window_size=window_size,\n",
        "          negative_samples=0)\n",
        "\n",
        "    # Iterate over each positive skip-gram pair to produce training examples\n",
        "    # with a positive context word and negative samples.\n",
        "    for target_word, context_word in positive_skip_grams:\n",
        "      context_class = tf.expand_dims(\n",
        "          tf.constant([context_word], dtype=\"int64\"), 1)\n",
        "      negative_sampling_candidates, _, _ = tf.random.log_uniform_candidate_sampler(\n",
        "          true_classes=context_class,\n",
        "          num_true=1,\n",
        "          num_sampled=num_ns,\n",
        "          unique=True,\n",
        "          range_max=vocab_size,\n",
        "          seed=seed,\n",
        "          name=\"negative_sampling\")\n",
        "\n",
        "      # Build context and label vectors (for one target word)\n",
        "      context = tf.concat([tf.squeeze(context_class,1), negative_sampling_candidates], 0)\n",
        "      label = tf.constant([1] + [0]*num_ns, dtype=\"int64\")\n",
        "\n",
        "      # Append each element from the training example to global lists.\n",
        "      targets.append(target_word)\n",
        "      contexts.append(context)\n",
        "      labels.append(label)\n",
        "\n",
        "  return targets, contexts, labels"
      ],
      "metadata": {
        "id": "sIr_DY3YE1oa"
      },
      "execution_count": null,
      "outputs": []
    },
    {
      "cell_type": "code",
      "source": [
        "for i in main_dir_files:\n",
        "  sub_dir_files = os.listdir(base_dir+'/'+i)\n",
        "  for j in sub_dir_files:\n",
        "    text_ds = tf.data.TextLineDataset(base_dir+'/'+i+'/'+j).filter(lambda x: tf.cast(tf.strings.length(x), bool))\n",
        "    vectorize_layer.adapt(text_ds.batch(1024))\n",
        "\n",
        "    #inverse_vocab = vectorize_layer.get_vocabulary()\n",
        "    #print(inverse_vocab[:20])\n",
        "\n",
        "    # Vectorize the data in text_ds.\n",
        "    text_vector_ds = text_ds.batch(batch_size=1024).prefetch(buffer_size=AUTOTUNE).map(vectorize_layer).unbatch()\n",
        "\n",
        "    sequences = list(text_vector_ds.as_numpy_iterator())\n",
        "    print(len(sequences))\n",
        "\n",
        "    targets, contexts, labels = generate_training_data(\n",
        "    sequences=sequences,\n",
        "    window_size=2,\n",
        "    num_ns=4,\n",
        "    vocab_size=vocab_size,\n",
        "    seed=SEED)\n",
        "\n",
        "    targets = np.array(targets)\n",
        "    contexts = np.array(contexts)\n",
        "    labels = np.array(labels)\n",
        "\n",
        "    print('\\n')\n",
        "    print(f\"targets.shape: {targets.shape}\")\n",
        "    print(f\"contexts.shape: {contexts.shape}\")\n",
        "    print(f\"labels.shape: {labels.shape}\")\n"
      ],
      "metadata": {
        "colab": {
          "base_uri": "https://localhost:8080/"
        },
        "id": "MjGS6ml7CeSx",
        "outputId": "c5634dab-b5bf-4ee7-9f47-0d2d3b2a5318"
      },
      "execution_count": null,
      "outputs": [
        {
          "output_type": "stream",
          "name": "stdout",
          "text": [
            "529\n"
          ]
        },
        {
          "output_type": "stream",
          "name": "stderr",
          "text": [
            "100%|██████████| 529/529 [00:00<00:00, 1089.02it/s]\n"
          ]
        },
        {
          "output_type": "stream",
          "name": "stdout",
          "text": [
            "\n",
            "\n",
            "targets.shape: (1690,)\n",
            "contexts.shape: (1690, 5)\n",
            "labels.shape: (1690, 5)\n",
            "2900\n"
          ]
        },
        {
          "output_type": "stream",
          "name": "stderr",
          "text": [
            "100%|██████████| 2900/2900 [00:04<00:00, 702.59it/s]\n"
          ]
        },
        {
          "output_type": "stream",
          "name": "stdout",
          "text": [
            "\n",
            "\n",
            "targets.shape: (9015,)\n",
            "contexts.shape: (9015, 5)\n",
            "labels.shape: (9015, 5)\n",
            "22320\n"
          ]
        },
        {
          "output_type": "stream",
          "name": "stderr",
          "text": [
            "100%|██████████| 22320/22320 [00:02<00:00, 8823.20it/s] \n"
          ]
        },
        {
          "output_type": "stream",
          "name": "stdout",
          "text": [
            "\n",
            "\n",
            "targets.shape: (6790,)\n",
            "contexts.shape: (6790, 5)\n",
            "labels.shape: (6790, 5)\n",
            "626\n"
          ]
        },
        {
          "output_type": "stream",
          "name": "stderr",
          "text": [
            "100%|██████████| 626/626 [00:00<00:00, 837.41it/s]\n"
          ]
        },
        {
          "output_type": "stream",
          "name": "stdout",
          "text": [
            "\n",
            "\n",
            "targets.shape: (2501,)\n",
            "contexts.shape: (2501, 5)\n",
            "labels.shape: (2501, 5)\n",
            "647\n"
          ]
        },
        {
          "output_type": "stream",
          "name": "stderr",
          "text": [
            "100%|██████████| 647/647 [00:00<00:00, 1058.52it/s]\n"
          ]
        },
        {
          "output_type": "stream",
          "name": "stdout",
          "text": [
            "\n",
            "\n",
            "targets.shape: (2161,)\n",
            "contexts.shape: (2161, 5)\n",
            "labels.shape: (2161, 5)\n",
            "3273\n"
          ]
        },
        {
          "output_type": "stream",
          "name": "stderr",
          "text": [
            "100%|██████████| 3273/3273 [00:01<00:00, 1895.01it/s]\n"
          ]
        },
        {
          "output_type": "stream",
          "name": "stdout",
          "text": [
            "\n",
            "\n",
            "targets.shape: (4136,)\n",
            "contexts.shape: (4136, 5)\n",
            "labels.shape: (4136, 5)\n",
            "4158\n"
          ]
        },
        {
          "output_type": "stream",
          "name": "stderr",
          "text": [
            "100%|██████████| 4158/4158 [00:01<00:00, 4025.57it/s]\n"
          ]
        },
        {
          "output_type": "stream",
          "name": "stdout",
          "text": [
            "\n",
            "\n",
            "targets.shape: (3856,)\n",
            "contexts.shape: (3856, 5)\n",
            "labels.shape: (3856, 5)\n",
            "11360\n"
          ]
        },
        {
          "output_type": "stream",
          "name": "stderr",
          "text": [
            "100%|██████████| 11360/11360 [00:04<00:00, 2278.11it/s]\n"
          ]
        },
        {
          "output_type": "stream",
          "name": "stdout",
          "text": [
            "\n",
            "\n",
            "targets.shape: (18385,)\n",
            "contexts.shape: (18385, 5)\n",
            "labels.shape: (18385, 5)\n",
            "467\n"
          ]
        },
        {
          "output_type": "stream",
          "name": "stderr",
          "text": [
            "100%|██████████| 467/467 [00:00<00:00, 982.34it/s] \n"
          ]
        },
        {
          "output_type": "stream",
          "name": "stdout",
          "text": [
            "\n",
            "\n",
            "targets.shape: (1476,)\n",
            "contexts.shape: (1476, 5)\n",
            "labels.shape: (1476, 5)\n",
            "18756\n"
          ]
        },
        {
          "output_type": "stream",
          "name": "stderr",
          "text": [
            "100%|██████████| 18756/18756 [00:01<00:00, 11410.32it/s]\n"
          ]
        },
        {
          "output_type": "stream",
          "name": "stdout",
          "text": [
            "\n",
            "\n",
            "targets.shape: (4927,)\n",
            "contexts.shape: (4927, 5)\n",
            "labels.shape: (4927, 5)\n",
            "6088\n"
          ]
        },
        {
          "output_type": "stream",
          "name": "stderr",
          "text": [
            "100%|██████████| 6088/6088 [00:00<00:00, 6263.36it/s]\n"
          ]
        },
        {
          "output_type": "stream",
          "name": "stdout",
          "text": [
            "\n",
            "\n",
            "targets.shape: (3336,)\n",
            "contexts.shape: (3336, 5)\n",
            "labels.shape: (3336, 5)\n",
            "615\n"
          ]
        },
        {
          "output_type": "stream",
          "name": "stderr",
          "text": [
            "100%|██████████| 615/615 [00:00<00:00, 1690.16it/s]\n"
          ]
        },
        {
          "output_type": "stream",
          "name": "stdout",
          "text": [
            "\n",
            "\n",
            "targets.shape: (1399,)\n",
            "contexts.shape: (1399, 5)\n",
            "labels.shape: (1399, 5)\n",
            "247\n"
          ]
        },
        {
          "output_type": "stream",
          "name": "stderr",
          "text": [
            "100%|██████████| 247/247 [00:00<00:00, 1467.75it/s]\n"
          ]
        },
        {
          "output_type": "stream",
          "name": "stdout",
          "text": [
            "\n",
            "\n",
            "targets.shape: (607,)\n",
            "contexts.shape: (607, 5)\n",
            "labels.shape: (607, 5)\n",
            "4712\n"
          ]
        },
        {
          "output_type": "stream",
          "name": "stderr",
          "text": [
            "100%|██████████| 4712/4712 [00:01<00:00, 3798.40it/s]\n"
          ]
        },
        {
          "output_type": "stream",
          "name": "stdout",
          "text": [
            "\n",
            "\n",
            "targets.shape: (3907,)\n",
            "contexts.shape: (3907, 5)\n",
            "labels.shape: (3907, 5)\n",
            "1018\n"
          ]
        },
        {
          "output_type": "stream",
          "name": "stderr",
          "text": [
            "100%|██████████| 1018/1018 [00:01<00:00, 761.92it/s]\n"
          ]
        },
        {
          "output_type": "stream",
          "name": "stdout",
          "text": [
            "\n",
            "\n",
            "targets.shape: (3440,)\n",
            "contexts.shape: (3440, 5)\n",
            "labels.shape: (3440, 5)\n",
            "531\n"
          ]
        },
        {
          "output_type": "stream",
          "name": "stderr",
          "text": [
            "100%|██████████| 531/531 [00:00<00:00, 994.00it/s]\n"
          ]
        },
        {
          "output_type": "stream",
          "name": "stdout",
          "text": [
            "\n",
            "\n",
            "targets.shape: (1896,)\n",
            "contexts.shape: (1896, 5)\n",
            "labels.shape: (1896, 5)\n",
            "15604\n"
          ]
        },
        {
          "output_type": "stream",
          "name": "stderr",
          "text": [
            "100%|██████████| 15604/15604 [00:01<00:00, 10167.97it/s]\n"
          ]
        },
        {
          "output_type": "stream",
          "name": "stdout",
          "text": [
            "\n",
            "\n",
            "targets.shape: (4841,)\n",
            "contexts.shape: (4841, 5)\n",
            "labels.shape: (4841, 5)\n",
            "331\n"
          ]
        },
        {
          "output_type": "stream",
          "name": "stderr",
          "text": [
            "100%|██████████| 331/331 [00:00<00:00, 1149.70it/s]\n"
          ]
        },
        {
          "output_type": "stream",
          "name": "stdout",
          "text": [
            "\n",
            "\n",
            "targets.shape: (1001,)\n",
            "contexts.shape: (1001, 5)\n",
            "labels.shape: (1001, 5)\n",
            "12468\n"
          ]
        },
        {
          "output_type": "stream",
          "name": "stderr",
          "text": [
            "100%|██████████| 12468/12468 [00:02<00:00, 5557.34it/s]\n"
          ]
        },
        {
          "output_type": "stream",
          "name": "stdout",
          "text": [
            "\n",
            "\n",
            "targets.shape: (6676,)\n",
            "contexts.shape: (6676, 5)\n",
            "labels.shape: (6676, 5)\n",
            "1297\n"
          ]
        },
        {
          "output_type": "stream",
          "name": "stderr",
          "text": [
            "100%|██████████| 1297/1297 [00:00<00:00, 1660.67it/s]\n"
          ]
        },
        {
          "output_type": "stream",
          "name": "stdout",
          "text": [
            "\n",
            "\n",
            "targets.shape: (2002,)\n",
            "contexts.shape: (2002, 5)\n",
            "labels.shape: (2002, 5)\n",
            "11042\n"
          ]
        },
        {
          "output_type": "stream",
          "name": "stderr",
          "text": [
            "100%|██████████| 11042/11042 [00:01<00:00, 7328.94it/s]\n"
          ]
        },
        {
          "output_type": "stream",
          "name": "stdout",
          "text": [
            "\n",
            "\n",
            "targets.shape: (5438,)\n",
            "contexts.shape: (5438, 5)\n",
            "labels.shape: (5438, 5)\n",
            "12360\n"
          ]
        },
        {
          "output_type": "stream",
          "name": "stderr",
          "text": [
            "100%|██████████| 12360/12360 [00:01<00:00, 8108.40it/s]\n"
          ]
        },
        {
          "output_type": "stream",
          "name": "stdout",
          "text": [
            "\n",
            "\n",
            "targets.shape: (4997,)\n",
            "contexts.shape: (4997, 5)\n",
            "labels.shape: (4997, 5)\n",
            "649\n"
          ]
        },
        {
          "output_type": "stream",
          "name": "stderr",
          "text": [
            "100%|██████████| 649/649 [00:00<00:00, 1061.32it/s]\n"
          ]
        },
        {
          "output_type": "stream",
          "name": "stdout",
          "text": [
            "\n",
            "\n",
            "targets.shape: (2331,)\n",
            "contexts.shape: (2331, 5)\n",
            "labels.shape: (2331, 5)\n",
            "11640\n"
          ]
        },
        {
          "output_type": "stream",
          "name": "stderr",
          "text": [
            "100%|██████████| 11640/11640 [00:09<00:00, 1166.90it/s]\n"
          ]
        },
        {
          "output_type": "stream",
          "name": "stdout",
          "text": [
            "\n",
            "\n",
            "targets.shape: (33251,)\n",
            "contexts.shape: (33251, 5)\n",
            "labels.shape: (33251, 5)\n",
            "6724\n"
          ]
        },
        {
          "output_type": "stream",
          "name": "stderr",
          "text": [
            "100%|██████████| 6724/6724 [00:01<00:00, 3593.92it/s]\n"
          ]
        },
        {
          "output_type": "stream",
          "name": "stdout",
          "text": [
            "\n",
            "\n",
            "targets.shape: (4796,)\n",
            "contexts.shape: (4796, 5)\n",
            "labels.shape: (4796, 5)\n",
            "1581\n"
          ]
        },
        {
          "output_type": "stream",
          "name": "stderr",
          "text": [
            "100%|██████████| 1581/1581 [00:00<00:00, 1631.18it/s]\n"
          ]
        },
        {
          "output_type": "stream",
          "name": "stdout",
          "text": [
            "\n",
            "\n",
            "targets.shape: (3793,)\n",
            "contexts.shape: (3793, 5)\n",
            "labels.shape: (3793, 5)\n",
            "633\n"
          ]
        },
        {
          "output_type": "stream",
          "name": "stderr",
          "text": [
            "100%|██████████| 633/633 [00:00<00:00, 979.35it/s]\n"
          ]
        },
        {
          "output_type": "stream",
          "name": "stdout",
          "text": [
            "\n",
            "\n",
            "targets.shape: (2320,)\n",
            "contexts.shape: (2320, 5)\n",
            "labels.shape: (2320, 5)\n",
            "263\n"
          ]
        },
        {
          "output_type": "stream",
          "name": "stderr",
          "text": [
            "100%|██████████| 263/263 [00:00<00:00, 1065.84it/s]\n"
          ]
        },
        {
          "output_type": "stream",
          "name": "stdout",
          "text": [
            "\n",
            "\n",
            "targets.shape: (883,)\n",
            "contexts.shape: (883, 5)\n",
            "labels.shape: (883, 5)\n",
            "1896\n"
          ]
        },
        {
          "output_type": "stream",
          "name": "stderr",
          "text": [
            "100%|██████████| 1896/1896 [00:00<00:00, 2094.48it/s]\n"
          ]
        },
        {
          "output_type": "stream",
          "name": "stdout",
          "text": [
            "\n",
            "\n",
            "targets.shape: (3315,)\n",
            "contexts.shape: (3315, 5)\n",
            "labels.shape: (3315, 5)\n",
            "612\n"
          ]
        },
        {
          "output_type": "stream",
          "name": "stderr",
          "text": [
            "100%|██████████| 612/612 [00:00<00:00, 1234.69it/s]\n"
          ]
        },
        {
          "output_type": "stream",
          "name": "stdout",
          "text": [
            "\n",
            "\n",
            "targets.shape: (1840,)\n",
            "contexts.shape: (1840, 5)\n",
            "labels.shape: (1840, 5)\n",
            "14170\n"
          ]
        },
        {
          "output_type": "stream",
          "name": "stderr",
          "text": [
            "100%|██████████| 14170/14170 [00:02<00:00, 6199.33it/s]\n"
          ]
        },
        {
          "output_type": "stream",
          "name": "stdout",
          "text": [
            "\n",
            "\n",
            "targets.shape: (6412,)\n",
            "contexts.shape: (6412, 5)\n",
            "labels.shape: (6412, 5)\n",
            "616\n"
          ]
        },
        {
          "output_type": "stream",
          "name": "stderr",
          "text": [
            "100%|██████████| 616/616 [00:00<00:00, 1029.96it/s]\n"
          ]
        },
        {
          "output_type": "stream",
          "name": "stdout",
          "text": [
            "\n",
            "\n",
            "targets.shape: (1721,)\n",
            "contexts.shape: (1721, 5)\n",
            "labels.shape: (1721, 5)\n",
            "1819\n"
          ]
        },
        {
          "output_type": "stream",
          "name": "stderr",
          "text": [
            "100%|██████████| 1819/1819 [00:02<00:00, 653.80it/s]\n"
          ]
        },
        {
          "output_type": "stream",
          "name": "stdout",
          "text": [
            "\n",
            "\n",
            "targets.shape: (7854,)\n",
            "contexts.shape: (7854, 5)\n",
            "labels.shape: (7854, 5)\n",
            "8214\n"
          ]
        },
        {
          "output_type": "stream",
          "name": "stderr",
          "text": [
            "100%|██████████| 8214/8214 [00:01<00:00, 4145.11it/s]\n"
          ]
        },
        {
          "output_type": "stream",
          "name": "stdout",
          "text": [
            "\n",
            "\n",
            "targets.shape: (6838,)\n",
            "contexts.shape: (6838, 5)\n",
            "labels.shape: (6838, 5)\n",
            "21989\n"
          ]
        },
        {
          "output_type": "stream",
          "name": "stderr",
          "text": [
            "100%|██████████| 21989/21989 [00:02<00:00, 9602.30it/s] \n"
          ]
        },
        {
          "output_type": "stream",
          "name": "stdout",
          "text": [
            "\n",
            "\n",
            "targets.shape: (6729,)\n",
            "contexts.shape: (6729, 5)\n",
            "labels.shape: (6729, 5)\n",
            "877\n"
          ]
        },
        {
          "output_type": "stream",
          "name": "stderr",
          "text": [
            "100%|██████████| 877/877 [00:00<00:00, 1371.21it/s]\n"
          ]
        },
        {
          "output_type": "stream",
          "name": "stdout",
          "text": [
            "\n",
            "\n",
            "targets.shape: (2423,)\n",
            "contexts.shape: (2423, 5)\n",
            "labels.shape: (2423, 5)\n",
            "1078\n"
          ]
        },
        {
          "output_type": "stream",
          "name": "stderr",
          "text": [
            "100%|██████████| 1078/1078 [00:00<00:00, 1172.54it/s]\n"
          ]
        },
        {
          "output_type": "stream",
          "name": "stdout",
          "text": [
            "\n",
            "\n",
            "targets.shape: (3381,)\n",
            "contexts.shape: (3381, 5)\n",
            "labels.shape: (3381, 5)\n",
            "1852\n"
          ]
        },
        {
          "output_type": "stream",
          "name": "stderr",
          "text": [
            "100%|██████████| 1852/1852 [00:01<00:00, 926.67it/s]\n"
          ]
        },
        {
          "output_type": "stream",
          "name": "stdout",
          "text": [
            "\n",
            "\n",
            "targets.shape: (7887,)\n",
            "contexts.shape: (7887, 5)\n",
            "labels.shape: (7887, 5)\n",
            "893\n"
          ]
        },
        {
          "output_type": "stream",
          "name": "stderr",
          "text": [
            "100%|██████████| 893/893 [00:00<00:00, 1078.80it/s]\n"
          ]
        },
        {
          "output_type": "stream",
          "name": "stdout",
          "text": [
            "\n",
            "\n",
            "targets.shape: (3200,)\n",
            "contexts.shape: (3200, 5)\n",
            "labels.shape: (3200, 5)\n",
            "878\n"
          ]
        },
        {
          "output_type": "stream",
          "name": "stderr",
          "text": [
            "100%|██████████| 878/878 [00:01<00:00, 854.52it/s]\n"
          ]
        },
        {
          "output_type": "stream",
          "name": "stdout",
          "text": [
            "\n",
            "\n",
            "targets.shape: (2908,)\n",
            "contexts.shape: (2908, 5)\n",
            "labels.shape: (2908, 5)\n",
            "1463\n"
          ]
        },
        {
          "output_type": "stream",
          "name": "stderr",
          "text": [
            "100%|██████████| 1463/1463 [00:01<00:00, 994.59it/s] \n"
          ]
        },
        {
          "output_type": "stream",
          "name": "stdout",
          "text": [
            "\n",
            "\n",
            "targets.shape: (4177,)\n",
            "contexts.shape: (4177, 5)\n",
            "labels.shape: (4177, 5)\n",
            "725\n"
          ]
        },
        {
          "output_type": "stream",
          "name": "stderr",
          "text": [
            "100%|██████████| 725/725 [00:00<00:00, 1464.43it/s]\n"
          ]
        },
        {
          "output_type": "stream",
          "name": "stdout",
          "text": [
            "\n",
            "\n",
            "targets.shape: (1866,)\n",
            "contexts.shape: (1866, 5)\n",
            "labels.shape: (1866, 5)\n",
            "25533\n"
          ]
        },
        {
          "output_type": "stream",
          "name": "stderr",
          "text": [
            "100%|██████████| 25533/25533 [00:01<00:00, 14089.88it/s]\n"
          ]
        },
        {
          "output_type": "stream",
          "name": "stdout",
          "text": [
            "\n",
            "\n",
            "targets.shape: (5327,)\n",
            "contexts.shape: (5327, 5)\n",
            "labels.shape: (5327, 5)\n",
            "2386\n"
          ]
        },
        {
          "output_type": "stream",
          "name": "stderr",
          "text": [
            "100%|██████████| 2386/2386 [00:01<00:00, 2183.87it/s]\n"
          ]
        },
        {
          "output_type": "stream",
          "name": "stdout",
          "text": [
            "\n",
            "\n",
            "targets.shape: (3533,)\n",
            "contexts.shape: (3533, 5)\n",
            "labels.shape: (3533, 5)\n",
            "1381\n"
          ]
        },
        {
          "output_type": "stream",
          "name": "stderr",
          "text": [
            "100%|██████████| 1381/1381 [00:01<00:00, 969.25it/s]\n"
          ]
        },
        {
          "output_type": "stream",
          "name": "stdout",
          "text": [
            "\n",
            "\n",
            "targets.shape: (3825,)\n",
            "contexts.shape: (3825, 5)\n",
            "labels.shape: (3825, 5)\n",
            "877\n"
          ]
        },
        {
          "output_type": "stream",
          "name": "stderr",
          "text": [
            "100%|██████████| 877/877 [00:00<00:00, 1186.00it/s]\n"
          ]
        },
        {
          "output_type": "stream",
          "name": "stdout",
          "text": [
            "\n",
            "\n",
            "targets.shape: (2774,)\n",
            "contexts.shape: (2774, 5)\n",
            "labels.shape: (2774, 5)\n",
            "1753\n"
          ]
        },
        {
          "output_type": "stream",
          "name": "stderr",
          "text": [
            "100%|██████████| 1753/1753 [00:01<00:00, 1656.47it/s]\n"
          ]
        },
        {
          "output_type": "stream",
          "name": "stdout",
          "text": [
            "\n",
            "\n",
            "targets.shape: (4108,)\n",
            "contexts.shape: (4108, 5)\n",
            "labels.shape: (4108, 5)\n",
            "71789\n"
          ]
        },
        {
          "output_type": "stream",
          "name": "stderr",
          "text": [
            "100%|██████████| 71789/71789 [00:02<00:00, 26542.53it/s]\n"
          ]
        },
        {
          "output_type": "stream",
          "name": "stdout",
          "text": [
            "\n",
            "\n",
            "targets.shape: (5420,)\n",
            "contexts.shape: (5420, 5)\n",
            "labels.shape: (5420, 5)\n",
            "3227\n"
          ]
        },
        {
          "output_type": "stream",
          "name": "stderr",
          "text": [
            "100%|██████████| 3227/3227 [00:01<00:00, 2833.14it/s]\n"
          ]
        },
        {
          "output_type": "stream",
          "name": "stdout",
          "text": [
            "\n",
            "\n",
            "targets.shape: (4007,)\n",
            "contexts.shape: (4007, 5)\n",
            "labels.shape: (4007, 5)\n",
            "1111\n"
          ]
        },
        {
          "output_type": "stream",
          "name": "stderr",
          "text": [
            "100%|██████████| 1111/1111 [00:01<00:00, 949.60it/s] \n"
          ]
        },
        {
          "output_type": "stream",
          "name": "stdout",
          "text": [
            "\n",
            "\n",
            "targets.shape: (4283,)\n",
            "contexts.shape: (4283, 5)\n",
            "labels.shape: (4283, 5)\n",
            "1310\n"
          ]
        },
        {
          "output_type": "stream",
          "name": "stderr",
          "text": [
            "100%|██████████| 1310/1310 [00:01<00:00, 1073.47it/s]\n"
          ]
        },
        {
          "output_type": "stream",
          "name": "stdout",
          "text": [
            "\n",
            "\n",
            "targets.shape: (3484,)\n",
            "contexts.shape: (3484, 5)\n",
            "labels.shape: (3484, 5)\n",
            "1782\n"
          ]
        },
        {
          "output_type": "stream",
          "name": "stderr",
          "text": [
            "100%|██████████| 1782/1782 [00:01<00:00, 1775.98it/s]\n"
          ]
        },
        {
          "output_type": "stream",
          "name": "stdout",
          "text": [
            "\n",
            "\n",
            "targets.shape: (2459,)\n",
            "contexts.shape: (2459, 5)\n",
            "labels.shape: (2459, 5)\n",
            "3305\n"
          ]
        },
        {
          "output_type": "stream",
          "name": "stderr",
          "text": [
            "100%|██████████| 3305/3305 [00:01<00:00, 2917.31it/s]\n"
          ]
        },
        {
          "output_type": "stream",
          "name": "stdout",
          "text": [
            "\n",
            "\n",
            "targets.shape: (4000,)\n",
            "contexts.shape: (4000, 5)\n",
            "labels.shape: (4000, 5)\n",
            "3668\n"
          ]
        },
        {
          "output_type": "stream",
          "name": "stderr",
          "text": [
            "100%|██████████| 3668/3668 [00:01<00:00, 3074.90it/s]\n"
          ]
        },
        {
          "output_type": "stream",
          "name": "stdout",
          "text": [
            "\n",
            "\n",
            "targets.shape: (4254,)\n",
            "contexts.shape: (4254, 5)\n",
            "labels.shape: (4254, 5)\n",
            "134\n"
          ]
        },
        {
          "output_type": "stream",
          "name": "stderr",
          "text": [
            "100%|██████████| 134/134 [00:00<00:00, 1978.71it/s]\n"
          ]
        },
        {
          "output_type": "stream",
          "name": "stdout",
          "text": [
            "\n",
            "\n",
            "targets.shape: (233,)\n",
            "contexts.shape: (233, 5)\n",
            "labels.shape: (233, 5)\n",
            "798\n"
          ]
        },
        {
          "output_type": "stream",
          "name": "stderr",
          "text": [
            "100%|██████████| 798/798 [00:00<00:00, 1027.85it/s]\n"
          ]
        },
        {
          "output_type": "stream",
          "name": "stdout",
          "text": [
            "\n",
            "\n",
            "targets.shape: (2896,)\n",
            "contexts.shape: (2896, 5)\n",
            "labels.shape: (2896, 5)\n",
            "1821\n"
          ]
        },
        {
          "output_type": "stream",
          "name": "stderr",
          "text": [
            "100%|██████████| 1821/1821 [00:01<00:00, 1679.96it/s]\n"
          ]
        },
        {
          "output_type": "stream",
          "name": "stdout",
          "text": [
            "\n",
            "\n",
            "targets.shape: (3979,)\n",
            "contexts.shape: (3979, 5)\n",
            "labels.shape: (3979, 5)\n",
            "78\n"
          ]
        },
        {
          "output_type": "stream",
          "name": "stderr",
          "text": [
            "100%|██████████| 78/78 [00:00<00:00, 42197.31it/s]\n"
          ]
        },
        {
          "output_type": "stream",
          "name": "stdout",
          "text": [
            "\n",
            "\n",
            "targets.shape: (0,)\n",
            "contexts.shape: (0,)\n",
            "labels.shape: (0,)\n",
            "650\n"
          ]
        },
        {
          "output_type": "stream",
          "name": "stderr",
          "text": [
            "100%|██████████| 650/650 [00:00<00:00, 4094.25it/s]"
          ]
        },
        {
          "output_type": "stream",
          "name": "stdout",
          "text": [
            "\n",
            "\n",
            "targets.shape: (549,)\n",
            "contexts.shape: (549, 5)\n",
            "labels.shape: (549, 5)\n"
          ]
        },
        {
          "output_type": "stream",
          "name": "stderr",
          "text": [
            "\n"
          ]
        },
        {
          "output_type": "stream",
          "name": "stdout",
          "text": [
            "7354\n"
          ]
        },
        {
          "output_type": "stream",
          "name": "stderr",
          "text": [
            "100%|██████████| 7354/7354 [00:01<00:00, 4201.44it/s]\n"
          ]
        },
        {
          "output_type": "stream",
          "name": "stdout",
          "text": [
            "\n",
            "\n",
            "targets.shape: (4418,)\n",
            "contexts.shape: (4418, 5)\n",
            "labels.shape: (4418, 5)\n",
            "309\n"
          ]
        },
        {
          "output_type": "stream",
          "name": "stderr",
          "text": [
            "100%|██████████| 309/309 [00:00<00:00, 886.00it/s]\n"
          ]
        },
        {
          "output_type": "stream",
          "name": "stdout",
          "text": [
            "\n",
            "\n",
            "targets.shape: (737,)\n",
            "contexts.shape: (737, 5)\n",
            "labels.shape: (737, 5)\n",
            "3475\n"
          ]
        },
        {
          "output_type": "stream",
          "name": "stderr",
          "text": [
            "100%|██████████| 3475/3475 [00:01<00:00, 3216.13it/s]\n"
          ]
        },
        {
          "output_type": "stream",
          "name": "stdout",
          "text": [
            "\n",
            "\n",
            "targets.shape: (4011,)\n",
            "contexts.shape: (4011, 5)\n",
            "labels.shape: (4011, 5)\n",
            "2185\n"
          ]
        },
        {
          "output_type": "stream",
          "name": "stderr",
          "text": [
            "100%|██████████| 2185/2185 [00:00<00:00, 2286.76it/s]\n"
          ]
        },
        {
          "output_type": "stream",
          "name": "stdout",
          "text": [
            "\n",
            "\n",
            "targets.shape: (3779,)\n",
            "contexts.shape: (3779, 5)\n",
            "labels.shape: (3779, 5)\n",
            "878\n"
          ]
        },
        {
          "output_type": "stream",
          "name": "stderr",
          "text": [
            "100%|██████████| 878/878 [00:00<00:00, 1070.68it/s]\n"
          ]
        },
        {
          "output_type": "stream",
          "name": "stdout",
          "text": [
            "\n",
            "\n",
            "targets.shape: (3174,)\n",
            "contexts.shape: (3174, 5)\n",
            "labels.shape: (3174, 5)\n",
            "20816\n"
          ]
        },
        {
          "output_type": "stream",
          "name": "stderr",
          "text": [
            "100%|██████████| 20816/20816 [00:09<00:00, 2139.55it/s]\n"
          ]
        },
        {
          "output_type": "stream",
          "name": "stdout",
          "text": [
            "\n",
            "\n",
            "targets.shape: (32548,)\n",
            "contexts.shape: (32548, 5)\n",
            "labels.shape: (32548, 5)\n",
            "2879\n"
          ]
        },
        {
          "output_type": "stream",
          "name": "stderr",
          "text": [
            "100%|██████████| 2879/2879 [00:01<00:00, 2744.78it/s]\n"
          ]
        },
        {
          "output_type": "stream",
          "name": "stdout",
          "text": [
            "\n",
            "\n",
            "targets.shape: (3905,)\n",
            "contexts.shape: (3905, 5)\n",
            "labels.shape: (3905, 5)\n",
            "592\n"
          ]
        },
        {
          "output_type": "stream",
          "name": "stderr",
          "text": [
            "100%|██████████| 592/592 [00:00<00:00, 1140.91it/s]\n"
          ]
        },
        {
          "output_type": "stream",
          "name": "stdout",
          "text": [
            "\n",
            "\n",
            "targets.shape: (2010,)\n",
            "contexts.shape: (2010, 5)\n",
            "labels.shape: (2010, 5)\n",
            "1298\n"
          ]
        },
        {
          "output_type": "stream",
          "name": "stderr",
          "text": [
            "100%|██████████| 1298/1298 [00:01<00:00, 1269.53it/s]\n"
          ]
        },
        {
          "output_type": "stream",
          "name": "stdout",
          "text": [
            "\n",
            "\n",
            "targets.shape: (3386,)\n",
            "contexts.shape: (3386, 5)\n",
            "labels.shape: (3386, 5)\n",
            "897\n"
          ]
        },
        {
          "output_type": "stream",
          "name": "stderr",
          "text": [
            "100%|██████████| 897/897 [00:00<00:00, 1035.18it/s]\n"
          ]
        },
        {
          "output_type": "stream",
          "name": "stdout",
          "text": [
            "\n",
            "\n",
            "targets.shape: (2388,)\n",
            "contexts.shape: (2388, 5)\n",
            "labels.shape: (2388, 5)\n",
            "2682\n"
          ]
        },
        {
          "output_type": "stream",
          "name": "stderr",
          "text": [
            "100%|██████████| 2682/2682 [00:01<00:00, 2665.65it/s]\n"
          ]
        },
        {
          "output_type": "stream",
          "name": "stdout",
          "text": [
            "\n",
            "\n",
            "targets.shape: (3510,)\n",
            "contexts.shape: (3510, 5)\n",
            "labels.shape: (3510, 5)\n",
            "279\n"
          ]
        },
        {
          "output_type": "stream",
          "name": "stderr",
          "text": [
            "100%|██████████| 279/279 [00:00<00:00, 1175.36it/s]\n"
          ]
        },
        {
          "output_type": "stream",
          "name": "stdout",
          "text": [
            "\n",
            "\n",
            "targets.shape: (831,)\n",
            "contexts.shape: (831, 5)\n",
            "labels.shape: (831, 5)\n",
            "1797\n"
          ]
        },
        {
          "output_type": "stream",
          "name": "stderr",
          "text": [
            "100%|██████████| 1797/1797 [00:01<00:00, 1727.27it/s]\n"
          ]
        },
        {
          "output_type": "stream",
          "name": "stdout",
          "text": [
            "\n",
            "\n",
            "targets.shape: (4069,)\n",
            "contexts.shape: (4069, 5)\n",
            "labels.shape: (4069, 5)\n",
            "1528\n"
          ]
        },
        {
          "output_type": "stream",
          "name": "stderr",
          "text": [
            "100%|██████████| 1528/1528 [00:00<00:00, 3740.65it/s]\n"
          ]
        },
        {
          "output_type": "stream",
          "name": "stdout",
          "text": [
            "\n",
            "\n",
            "targets.shape: (1407,)\n",
            "contexts.shape: (1407, 5)\n",
            "labels.shape: (1407, 5)\n",
            "6706\n"
          ]
        },
        {
          "output_type": "stream",
          "name": "stderr",
          "text": [
            "100%|██████████| 6706/6706 [00:01<00:00, 5558.39it/s]\n"
          ]
        },
        {
          "output_type": "stream",
          "name": "stdout",
          "text": [
            "\n",
            "\n",
            "targets.shape: (4096,)\n",
            "contexts.shape: (4096, 5)\n",
            "labels.shape: (4096, 5)\n",
            "3552\n"
          ]
        },
        {
          "output_type": "stream",
          "name": "stderr",
          "text": [
            "100%|██████████| 3552/3552 [00:01<00:00, 3020.30it/s]\n"
          ]
        },
        {
          "output_type": "stream",
          "name": "stdout",
          "text": [
            "\n",
            "\n",
            "targets.shape: (4185,)\n",
            "contexts.shape: (4185, 5)\n",
            "labels.shape: (4185, 5)\n",
            "9\n"
          ]
        },
        {
          "output_type": "stream",
          "name": "stderr",
          "text": [
            "100%|██████████| 9/9 [00:00<00:00, 922.50it/s]\n"
          ]
        },
        {
          "output_type": "stream",
          "name": "stdout",
          "text": [
            "\n",
            "\n",
            "targets.shape: (28,)\n",
            "contexts.shape: (28, 5)\n",
            "labels.shape: (28, 5)\n",
            "3401\n"
          ]
        },
        {
          "output_type": "stream",
          "name": "stderr",
          "text": [
            "100%|██████████| 3401/3401 [00:01<00:00, 2644.25it/s]\n"
          ]
        },
        {
          "output_type": "stream",
          "name": "stdout",
          "text": [
            "\n",
            "\n",
            "targets.shape: (4075,)\n",
            "contexts.shape: (4075, 5)\n",
            "labels.shape: (4075, 5)\n",
            "263\n"
          ]
        },
        {
          "output_type": "stream",
          "name": "stderr",
          "text": [
            "100%|██████████| 263/263 [00:00<00:00, 1110.49it/s]\n"
          ]
        },
        {
          "output_type": "stream",
          "name": "stdout",
          "text": [
            "\n",
            "\n",
            "targets.shape: (773,)\n",
            "contexts.shape: (773, 5)\n",
            "labels.shape: (773, 5)\n",
            "243\n"
          ]
        },
        {
          "output_type": "stream",
          "name": "stderr",
          "text": [
            "100%|██████████| 243/243 [00:00<00:00, 1259.99it/s]\n"
          ]
        },
        {
          "output_type": "stream",
          "name": "stdout",
          "text": [
            "\n",
            "\n",
            "targets.shape: (439,)\n",
            "contexts.shape: (439, 5)\n",
            "labels.shape: (439, 5)\n",
            "954\n"
          ]
        },
        {
          "output_type": "stream",
          "name": "stderr",
          "text": [
            "100%|██████████| 954/954 [00:01<00:00, 911.59it/s]\n"
          ]
        },
        {
          "output_type": "stream",
          "name": "stdout",
          "text": [
            "\n",
            "\n",
            "targets.shape: (3138,)\n",
            "contexts.shape: (3138, 5)\n",
            "labels.shape: (3138, 5)\n",
            "11702\n"
          ]
        },
        {
          "output_type": "stream",
          "name": "stderr",
          "text": [
            "100%|██████████| 11702/11702 [00:01<00:00, 7526.46it/s]\n"
          ]
        },
        {
          "output_type": "stream",
          "name": "stdout",
          "text": [
            "\n",
            "\n",
            "targets.shape: (4893,)\n",
            "contexts.shape: (4893, 5)\n",
            "labels.shape: (4893, 5)\n",
            "14\n"
          ]
        },
        {
          "output_type": "stream",
          "name": "stderr",
          "text": [
            "100%|██████████| 14/14 [00:00<00:00, 5348.42it/s]\n"
          ]
        },
        {
          "output_type": "stream",
          "name": "stdout",
          "text": [
            "\n",
            "\n",
            "targets.shape: (1,)\n",
            "contexts.shape: (1, 5)\n",
            "labels.shape: (1, 5)\n",
            "345\n"
          ]
        },
        {
          "output_type": "stream",
          "name": "stderr",
          "text": [
            "100%|██████████| 345/345 [00:00<00:00, 1425.76it/s]\n"
          ]
        },
        {
          "output_type": "stream",
          "name": "stdout",
          "text": [
            "\n",
            "\n",
            "targets.shape: (846,)\n",
            "contexts.shape: (846, 5)\n",
            "labels.shape: (846, 5)\n",
            "5160\n"
          ]
        },
        {
          "output_type": "stream",
          "name": "stderr",
          "text": [
            "100%|██████████| 5160/5160 [00:01<00:00, 4403.65it/s]\n"
          ]
        },
        {
          "output_type": "stream",
          "name": "stdout",
          "text": [
            "\n",
            "\n",
            "targets.shape: (4313,)\n",
            "contexts.shape: (4313, 5)\n",
            "labels.shape: (4313, 5)\n",
            "19125\n"
          ]
        },
        {
          "output_type": "stream",
          "name": "stderr",
          "text": [
            "100%|██████████| 19125/19125 [00:01<00:00, 10181.01it/s]\n"
          ]
        },
        {
          "output_type": "stream",
          "name": "stdout",
          "text": [
            "\n",
            "\n",
            "targets.shape: (5940,)\n",
            "contexts.shape: (5940, 5)\n",
            "labels.shape: (5940, 5)\n",
            "5559\n"
          ]
        },
        {
          "output_type": "stream",
          "name": "stderr",
          "text": [
            "100%|██████████| 5559/5559 [00:01<00:00, 3060.15it/s]\n"
          ]
        },
        {
          "output_type": "stream",
          "name": "stdout",
          "text": [
            "\n",
            "\n",
            "targets.shape: (4337,)\n",
            "contexts.shape: (4337, 5)\n",
            "labels.shape: (4337, 5)\n",
            "189\n"
          ]
        },
        {
          "output_type": "stream",
          "name": "stderr",
          "text": [
            "100%|██████████| 189/189 [00:00<00:00, 2025.91it/s]"
          ]
        },
        {
          "output_type": "stream",
          "name": "stdout",
          "text": [
            "\n",
            "\n",
            "targets.shape: (348,)\n",
            "contexts.shape: (348, 5)\n",
            "labels.shape: (348, 5)\n"
          ]
        },
        {
          "output_type": "stream",
          "name": "stderr",
          "text": [
            "\n"
          ]
        },
        {
          "output_type": "stream",
          "name": "stdout",
          "text": [
            "51636\n"
          ]
        },
        {
          "output_type": "stream",
          "name": "stderr",
          "text": [
            "100%|██████████| 51636/51636 [00:07<00:00, 6798.42it/s]\n"
          ]
        },
        {
          "output_type": "stream",
          "name": "stdout",
          "text": [
            "\n",
            "\n",
            "targets.shape: (23233,)\n",
            "contexts.shape: (23233, 5)\n",
            "labels.shape: (23233, 5)\n",
            "496\n"
          ]
        },
        {
          "output_type": "stream",
          "name": "stderr",
          "text": [
            "100%|██████████| 496/496 [00:00<00:00, 662.55it/s]\n"
          ]
        },
        {
          "output_type": "stream",
          "name": "stdout",
          "text": [
            "\n",
            "\n",
            "targets.shape: (1693,)\n",
            "contexts.shape: (1693, 5)\n",
            "labels.shape: (1693, 5)\n",
            "3682\n"
          ]
        },
        {
          "output_type": "stream",
          "name": "stderr",
          "text": [
            "100%|██████████| 3682/3682 [00:01<00:00, 2875.65it/s]\n"
          ]
        },
        {
          "output_type": "stream",
          "name": "stdout",
          "text": [
            "\n",
            "\n",
            "targets.shape: (4332,)\n",
            "contexts.shape: (4332, 5)\n",
            "labels.shape: (4332, 5)\n",
            "3490\n"
          ]
        },
        {
          "output_type": "stream",
          "name": "stderr",
          "text": [
            "100%|██████████| 3490/3490 [00:01<00:00, 3011.58it/s]\n"
          ]
        },
        {
          "output_type": "stream",
          "name": "stdout",
          "text": [
            "\n",
            "\n",
            "targets.shape: (3667,)\n",
            "contexts.shape: (3667, 5)\n",
            "labels.shape: (3667, 5)\n",
            "990\n"
          ]
        },
        {
          "output_type": "stream",
          "name": "stderr",
          "text": [
            "100%|██████████| 990/990 [00:00<00:00, 1193.61it/s]\n"
          ]
        },
        {
          "output_type": "stream",
          "name": "stdout",
          "text": [
            "\n",
            "\n",
            "targets.shape: (2842,)\n",
            "contexts.shape: (2842, 5)\n",
            "labels.shape: (2842, 5)\n",
            "623\n"
          ]
        },
        {
          "output_type": "stream",
          "name": "stderr",
          "text": [
            "100%|██████████| 623/623 [00:00<00:00, 1289.83it/s]\n"
          ]
        },
        {
          "output_type": "stream",
          "name": "stdout",
          "text": [
            "\n",
            "\n",
            "targets.shape: (1413,)\n",
            "contexts.shape: (1413, 5)\n",
            "labels.shape: (1413, 5)\n",
            "44\n"
          ]
        },
        {
          "output_type": "stream",
          "name": "stderr",
          "text": [
            "100%|██████████| 44/44 [00:00<00:00, 7606.52it/s]"
          ]
        },
        {
          "output_type": "stream",
          "name": "stdout",
          "text": [
            "\n",
            "\n",
            "targets.shape: (8,)\n",
            "contexts.shape: (8, 5)\n",
            "labels.shape: (8, 5)\n"
          ]
        },
        {
          "output_type": "stream",
          "name": "stderr",
          "text": [
            "\n"
          ]
        },
        {
          "output_type": "stream",
          "name": "stdout",
          "text": [
            "10\n"
          ]
        },
        {
          "output_type": "stream",
          "name": "stderr",
          "text": [
            "100%|██████████| 10/10 [00:00<00:00, 725.52it/s]\n"
          ]
        },
        {
          "output_type": "stream",
          "name": "stdout",
          "text": [
            "\n",
            "\n",
            "targets.shape: (32,)\n",
            "contexts.shape: (32, 5)\n",
            "labels.shape: (32, 5)\n",
            "630\n"
          ]
        },
        {
          "output_type": "stream",
          "name": "stderr",
          "text": [
            "100%|██████████| 630/630 [00:00<00:00, 1053.12it/s]\n"
          ]
        },
        {
          "output_type": "stream",
          "name": "stdout",
          "text": [
            "\n",
            "\n",
            "targets.shape: (2175,)\n",
            "contexts.shape: (2175, 5)\n",
            "labels.shape: (2175, 5)\n",
            "2667\n"
          ]
        },
        {
          "output_type": "stream",
          "name": "stderr",
          "text": [
            "100%|██████████| 2667/2667 [00:01<00:00, 2231.74it/s]\n"
          ]
        },
        {
          "output_type": "stream",
          "name": "stdout",
          "text": [
            "\n",
            "\n",
            "targets.shape: (4213,)\n",
            "contexts.shape: (4213, 5)\n",
            "labels.shape: (4213, 5)\n",
            "229\n"
          ]
        },
        {
          "output_type": "stream",
          "name": "stderr",
          "text": [
            "100%|██████████| 229/229 [00:00<00:00, 2476.21it/s]"
          ]
        },
        {
          "output_type": "stream",
          "name": "stdout",
          "text": [
            "\n",
            "\n",
            "targets.shape: (274,)\n",
            "contexts.shape: (274, 5)\n",
            "labels.shape: (274, 5)\n"
          ]
        },
        {
          "output_type": "stream",
          "name": "stderr",
          "text": [
            "\n"
          ]
        },
        {
          "output_type": "stream",
          "name": "stdout",
          "text": [
            "779\n"
          ]
        },
        {
          "output_type": "stream",
          "name": "stderr",
          "text": [
            "100%|██████████| 779/779 [00:00<00:00, 1566.48it/s]\n"
          ]
        },
        {
          "output_type": "stream",
          "name": "stdout",
          "text": [
            "\n",
            "\n",
            "targets.shape: (1388,)\n",
            "contexts.shape: (1388, 5)\n",
            "labels.shape: (1388, 5)\n",
            "21097\n"
          ]
        },
        {
          "output_type": "stream",
          "name": "stderr",
          "text": [
            "100%|██████████| 21097/21097 [00:02<00:00, 9534.68it/s] \n"
          ]
        },
        {
          "output_type": "stream",
          "name": "stdout",
          "text": [
            "\n",
            "\n",
            "targets.shape: (6880,)\n",
            "contexts.shape: (6880, 5)\n",
            "labels.shape: (6880, 5)\n",
            "5663\n"
          ]
        },
        {
          "output_type": "stream",
          "name": "stderr",
          "text": [
            "100%|██████████| 5663/5663 [00:01<00:00, 3605.03it/s]\n"
          ]
        },
        {
          "output_type": "stream",
          "name": "stdout",
          "text": [
            "\n",
            "\n",
            "targets.shape: (4311,)\n",
            "contexts.shape: (4311, 5)\n",
            "labels.shape: (4311, 5)\n",
            "6280\n"
          ]
        },
        {
          "output_type": "stream",
          "name": "stderr",
          "text": [
            "100%|██████████| 6280/6280 [00:01<00:00, 4822.33it/s]\n"
          ]
        },
        {
          "output_type": "stream",
          "name": "stdout",
          "text": [
            "\n",
            "\n",
            "targets.shape: (4186,)\n",
            "contexts.shape: (4186, 5)\n",
            "labels.shape: (4186, 5)\n",
            "796\n"
          ]
        },
        {
          "output_type": "stream",
          "name": "stderr",
          "text": [
            "100%|██████████| 796/796 [00:00<00:00, 2813.80it/s]\n"
          ]
        },
        {
          "output_type": "stream",
          "name": "stdout",
          "text": [
            "\n",
            "\n",
            "targets.shape: (882,)\n",
            "contexts.shape: (882, 5)\n",
            "labels.shape: (882, 5)\n",
            "4149\n"
          ]
        },
        {
          "output_type": "stream",
          "name": "stderr",
          "text": [
            "100%|██████████| 4149/4149 [00:01<00:00, 3618.69it/s]\n"
          ]
        },
        {
          "output_type": "stream",
          "name": "stdout",
          "text": [
            "\n",
            "\n",
            "targets.shape: (4296,)\n",
            "contexts.shape: (4296, 5)\n",
            "labels.shape: (4296, 5)\n",
            "1\n"
          ]
        },
        {
          "output_type": "stream",
          "name": "stderr",
          "text": [
            "100%|██████████| 1/1 [00:00<00:00, 288.96it/s]\n"
          ]
        },
        {
          "output_type": "stream",
          "name": "stdout",
          "text": [
            "\n",
            "\n",
            "targets.shape: (4,)\n",
            "contexts.shape: (4, 5)\n",
            "labels.shape: (4, 5)\n",
            "3994\n"
          ]
        },
        {
          "output_type": "stream",
          "name": "stderr",
          "text": [
            "100%|██████████| 3994/3994 [00:01<00:00, 3715.51it/s]\n"
          ]
        },
        {
          "output_type": "stream",
          "name": "stdout",
          "text": [
            "\n",
            "\n",
            "targets.shape: (3973,)\n",
            "contexts.shape: (3973, 5)\n",
            "labels.shape: (3973, 5)\n",
            "787\n"
          ]
        },
        {
          "output_type": "stream",
          "name": "stderr",
          "text": [
            "100%|██████████| 787/787 [00:00<00:00, 1474.33it/s]\n"
          ]
        },
        {
          "output_type": "stream",
          "name": "stdout",
          "text": [
            "\n",
            "\n",
            "targets.shape: (1887,)\n",
            "contexts.shape: (1887, 5)\n",
            "labels.shape: (1887, 5)\n",
            "1666\n"
          ]
        },
        {
          "output_type": "stream",
          "name": "stderr",
          "text": [
            "100%|██████████| 1666/1666 [00:01<00:00, 1317.71it/s]\n"
          ]
        },
        {
          "output_type": "stream",
          "name": "stdout",
          "text": [
            "\n",
            "\n",
            "targets.shape: (3837,)\n",
            "contexts.shape: (3837, 5)\n",
            "labels.shape: (3837, 5)\n",
            "389\n"
          ]
        },
        {
          "output_type": "stream",
          "name": "stderr",
          "text": [
            "100%|██████████| 389/389 [00:00<00:00, 860.85it/s]\n"
          ]
        },
        {
          "output_type": "stream",
          "name": "stdout",
          "text": [
            "\n",
            "\n",
            "targets.shape: (1373,)\n",
            "contexts.shape: (1373, 5)\n",
            "labels.shape: (1373, 5)\n",
            "1395\n"
          ]
        },
        {
          "output_type": "stream",
          "name": "stderr",
          "text": [
            "100%|██████████| 1395/1395 [00:01<00:00, 1364.50it/s]\n"
          ]
        },
        {
          "output_type": "stream",
          "name": "stdout",
          "text": [
            "\n",
            "\n",
            "targets.shape: (3071,)\n",
            "contexts.shape: (3071, 5)\n",
            "labels.shape: (3071, 5)\n",
            "889\n"
          ]
        },
        {
          "output_type": "stream",
          "name": "stderr",
          "text": [
            "100%|██████████| 889/889 [00:00<00:00, 1278.13it/s]\n"
          ]
        },
        {
          "output_type": "stream",
          "name": "stdout",
          "text": [
            "\n",
            "\n",
            "targets.shape: (2595,)\n",
            "contexts.shape: (2595, 5)\n",
            "labels.shape: (2595, 5)\n",
            "1358\n"
          ]
        },
        {
          "output_type": "stream",
          "name": "stderr",
          "text": [
            "100%|██████████| 1358/1358 [00:01<00:00, 1088.30it/s]\n"
          ]
        },
        {
          "output_type": "stream",
          "name": "stdout",
          "text": [
            "\n",
            "\n",
            "targets.shape: (4689,)\n",
            "contexts.shape: (4689, 5)\n",
            "labels.shape: (4689, 5)\n",
            "5194\n"
          ]
        },
        {
          "output_type": "stream",
          "name": "stderr",
          "text": [
            "100%|██████████| 5194/5194 [00:01<00:00, 3925.28it/s]\n"
          ]
        },
        {
          "output_type": "stream",
          "name": "stdout",
          "text": [
            "\n",
            "\n",
            "targets.shape: (4317,)\n",
            "contexts.shape: (4317, 5)\n",
            "labels.shape: (4317, 5)\n",
            "4078\n"
          ]
        },
        {
          "output_type": "stream",
          "name": "stderr",
          "text": [
            "100%|██████████| 4078/4078 [00:01<00:00, 3422.00it/s]\n"
          ]
        },
        {
          "output_type": "stream",
          "name": "stdout",
          "text": [
            "\n",
            "\n",
            "targets.shape: (3930,)\n",
            "contexts.shape: (3930, 5)\n",
            "labels.shape: (3930, 5)\n",
            "6975\n"
          ]
        },
        {
          "output_type": "stream",
          "name": "stderr",
          "text": [
            "100%|██████████| 6975/6975 [00:02<00:00, 3027.43it/s]\n"
          ]
        },
        {
          "output_type": "stream",
          "name": "stdout",
          "text": [
            "\n",
            "\n",
            "targets.shape: (5769,)\n",
            "contexts.shape: (5769, 5)\n",
            "labels.shape: (5769, 5)\n",
            "1359\n"
          ]
        },
        {
          "output_type": "stream",
          "name": "stderr",
          "text": [
            "100%|██████████| 1359/1359 [00:01<00:00, 834.77it/s]\n"
          ]
        },
        {
          "output_type": "stream",
          "name": "stdout",
          "text": [
            "\n",
            "\n",
            "targets.shape: (6209,)\n",
            "contexts.shape: (6209, 5)\n",
            "labels.shape: (6209, 5)\n",
            "342\n"
          ]
        },
        {
          "output_type": "stream",
          "name": "stderr",
          "text": [
            "100%|██████████| 342/342 [00:00<00:00, 1154.38it/s]\n"
          ]
        },
        {
          "output_type": "stream",
          "name": "stdout",
          "text": [
            "\n",
            "\n",
            "targets.shape: (1013,)\n",
            "contexts.shape: (1013, 5)\n",
            "labels.shape: (1013, 5)\n",
            "1378\n"
          ]
        },
        {
          "output_type": "stream",
          "name": "stderr",
          "text": [
            "100%|██████████| 1378/1378 [00:01<00:00, 1317.54it/s]\n"
          ]
        },
        {
          "output_type": "stream",
          "name": "stdout",
          "text": [
            "\n",
            "\n",
            "targets.shape: (3718,)\n",
            "contexts.shape: (3718, 5)\n",
            "labels.shape: (3718, 5)\n",
            "4371\n"
          ]
        },
        {
          "output_type": "stream",
          "name": "stderr",
          "text": [
            "100%|██████████| 4371/4371 [00:01<00:00, 3839.04it/s]\n"
          ]
        },
        {
          "output_type": "stream",
          "name": "stdout",
          "text": [
            "\n",
            "\n",
            "targets.shape: (3912,)\n",
            "contexts.shape: (3912, 5)\n",
            "labels.shape: (3912, 5)\n",
            "15967\n"
          ]
        },
        {
          "output_type": "stream",
          "name": "stderr",
          "text": [
            "100%|██████████| 15967/15967 [00:01<00:00, 10092.58it/s]\n"
          ]
        },
        {
          "output_type": "stream",
          "name": "stdout",
          "text": [
            "\n",
            "\n",
            "targets.shape: (4827,)\n",
            "contexts.shape: (4827, 5)\n",
            "labels.shape: (4827, 5)\n",
            "31851\n"
          ]
        },
        {
          "output_type": "stream",
          "name": "stderr",
          "text": [
            "100%|██████████| 31851/31851 [00:02<00:00, 11563.21it/s]\n"
          ]
        },
        {
          "output_type": "stream",
          "name": "stdout",
          "text": [
            "\n",
            "\n",
            "targets.shape: (7074,)\n",
            "contexts.shape: (7074, 5)\n",
            "labels.shape: (7074, 5)\n",
            "471\n"
          ]
        },
        {
          "output_type": "stream",
          "name": "stderr",
          "text": [
            "100%|██████████| 471/471 [00:00<00:00, 680.67it/s]\n"
          ]
        },
        {
          "output_type": "stream",
          "name": "stdout",
          "text": [
            "\n",
            "\n",
            "targets.shape: (1534,)\n",
            "contexts.shape: (1534, 5)\n",
            "labels.shape: (1534, 5)\n",
            "886\n"
          ]
        },
        {
          "output_type": "stream",
          "name": "stderr",
          "text": [
            "100%|██████████| 886/886 [00:00<00:00, 2403.58it/s]\n"
          ]
        },
        {
          "output_type": "stream",
          "name": "stdout",
          "text": [
            "\n",
            "\n",
            "targets.shape: (1337,)\n",
            "contexts.shape: (1337, 5)\n",
            "labels.shape: (1337, 5)\n",
            "3631\n"
          ]
        },
        {
          "output_type": "stream",
          "name": "stderr",
          "text": [
            "100%|██████████| 3631/3631 [00:01<00:00, 3058.55it/s]\n"
          ]
        },
        {
          "output_type": "stream",
          "name": "stdout",
          "text": [
            "\n",
            "\n",
            "targets.shape: (4167,)\n",
            "contexts.shape: (4167, 5)\n",
            "labels.shape: (4167, 5)\n",
            "467\n"
          ]
        },
        {
          "output_type": "stream",
          "name": "stderr",
          "text": [
            "100%|██████████| 467/467 [00:00<00:00, 1309.84it/s]\n"
          ]
        },
        {
          "output_type": "stream",
          "name": "stdout",
          "text": [
            "\n",
            "\n",
            "targets.shape: (1244,)\n",
            "contexts.shape: (1244, 5)\n",
            "labels.shape: (1244, 5)\n",
            "1886\n"
          ]
        },
        {
          "output_type": "stream",
          "name": "stderr",
          "text": [
            "100%|██████████| 1886/1886 [00:01<00:00, 1318.65it/s]\n"
          ]
        },
        {
          "output_type": "stream",
          "name": "stdout",
          "text": [
            "\n",
            "\n",
            "targets.shape: (5371,)\n",
            "contexts.shape: (5371, 5)\n",
            "labels.shape: (5371, 5)\n",
            "654\n"
          ]
        },
        {
          "output_type": "stream",
          "name": "stderr",
          "text": [
            "100%|██████████| 654/654 [00:00<00:00, 1664.80it/s]\n"
          ]
        },
        {
          "output_type": "stream",
          "name": "stdout",
          "text": [
            "\n",
            "\n",
            "targets.shape: (1406,)\n",
            "contexts.shape: (1406, 5)\n",
            "labels.shape: (1406, 5)\n",
            "1224\n"
          ]
        },
        {
          "output_type": "stream",
          "name": "stderr",
          "text": [
            "100%|██████████| 1224/1224 [00:01<00:00, 1057.21it/s]\n"
          ]
        },
        {
          "output_type": "stream",
          "name": "stdout",
          "text": [
            "\n",
            "\n",
            "targets.shape: (4354,)\n",
            "contexts.shape: (4354, 5)\n",
            "labels.shape: (4354, 5)\n",
            "11105\n"
          ]
        },
        {
          "output_type": "stream",
          "name": "stderr",
          "text": [
            "100%|██████████| 11105/11105 [00:01<00:00, 5586.04it/s]\n"
          ]
        },
        {
          "output_type": "stream",
          "name": "stdout",
          "text": [
            "\n",
            "\n",
            "targets.shape: (5484,)\n",
            "contexts.shape: (5484, 5)\n",
            "labels.shape: (5484, 5)\n",
            "9027\n"
          ]
        },
        {
          "output_type": "stream",
          "name": "stderr",
          "text": [
            "100%|██████████| 9027/9027 [00:01<00:00, 6293.60it/s]\n"
          ]
        },
        {
          "output_type": "stream",
          "name": "stdout",
          "text": [
            "\n",
            "\n",
            "targets.shape: (4650,)\n",
            "contexts.shape: (4650, 5)\n",
            "labels.shape: (4650, 5)\n",
            "3183\n"
          ]
        },
        {
          "output_type": "stream",
          "name": "stderr",
          "text": [
            "100%|██████████| 3183/3183 [00:01<00:00, 2969.83it/s]\n"
          ]
        },
        {
          "output_type": "stream",
          "name": "stdout",
          "text": [
            "\n",
            "\n",
            "targets.shape: (3853,)\n",
            "contexts.shape: (3853, 5)\n",
            "labels.shape: (3853, 5)\n",
            "428\n"
          ]
        },
        {
          "output_type": "stream",
          "name": "stderr",
          "text": [
            "100%|██████████| 428/428 [00:00<00:00, 1830.17it/s]\n"
          ]
        },
        {
          "output_type": "stream",
          "name": "stdout",
          "text": [
            "\n",
            "\n",
            "targets.shape: (774,)\n",
            "contexts.shape: (774, 5)\n",
            "labels.shape: (774, 5)\n",
            "6333\n"
          ]
        },
        {
          "output_type": "stream",
          "name": "stderr",
          "text": [
            "100%|██████████| 6333/6333 [00:01<00:00, 4735.68it/s]\n"
          ]
        },
        {
          "output_type": "stream",
          "name": "stdout",
          "text": [
            "\n",
            "\n",
            "targets.shape: (4412,)\n",
            "contexts.shape: (4412, 5)\n",
            "labels.shape: (4412, 5)\n",
            "16097\n"
          ]
        },
        {
          "output_type": "stream",
          "name": "stderr",
          "text": [
            "100%|██████████| 16097/16097 [00:01<00:00, 9782.63it/s]\n"
          ]
        },
        {
          "output_type": "stream",
          "name": "stdout",
          "text": [
            "\n",
            "\n",
            "targets.shape: (4873,)\n",
            "contexts.shape: (4873, 5)\n",
            "labels.shape: (4873, 5)\n",
            "3181\n"
          ]
        },
        {
          "output_type": "stream",
          "name": "stderr",
          "text": [
            "100%|██████████| 3181/3181 [00:01<00:00, 3176.84it/s]\n"
          ]
        },
        {
          "output_type": "stream",
          "name": "stdout",
          "text": [
            "\n",
            "\n",
            "targets.shape: (3549,)\n",
            "contexts.shape: (3549, 5)\n",
            "labels.shape: (3549, 5)\n",
            "319\n"
          ]
        },
        {
          "output_type": "stream",
          "name": "stderr",
          "text": [
            "100%|██████████| 319/319 [00:00<00:00, 2395.63it/s]\n"
          ]
        },
        {
          "output_type": "stream",
          "name": "stdout",
          "text": [
            "\n",
            "\n",
            "targets.shape: (491,)\n",
            "contexts.shape: (491, 5)\n",
            "labels.shape: (491, 5)\n",
            "2625\n"
          ]
        },
        {
          "output_type": "stream",
          "name": "stderr",
          "text": [
            "100%|██████████| 2625/2625 [00:00<00:00, 2647.97it/s]\n"
          ]
        },
        {
          "output_type": "stream",
          "name": "stdout",
          "text": [
            "\n",
            "\n",
            "targets.shape: (3772,)\n",
            "contexts.shape: (3772, 5)\n",
            "labels.shape: (3772, 5)\n",
            "15405\n"
          ]
        },
        {
          "output_type": "stream",
          "name": "stderr",
          "text": [
            "100%|██████████| 15405/15405 [00:02<00:00, 7146.35it/s]\n"
          ]
        },
        {
          "output_type": "stream",
          "name": "stdout",
          "text": [
            "\n",
            "\n",
            "targets.shape: (5066,)\n",
            "contexts.shape: (5066, 5)\n",
            "labels.shape: (5066, 5)\n",
            "1481\n"
          ]
        },
        {
          "output_type": "stream",
          "name": "stderr",
          "text": [
            "100%|██████████| 1481/1481 [00:00<00:00, 1582.64it/s]\n"
          ]
        },
        {
          "output_type": "stream",
          "name": "stdout",
          "text": [
            "\n",
            "\n",
            "targets.shape: (3684,)\n",
            "contexts.shape: (3684, 5)\n",
            "labels.shape: (3684, 5)\n",
            "683\n"
          ]
        },
        {
          "output_type": "stream",
          "name": "stderr",
          "text": [
            "100%|██████████| 683/683 [00:00<00:00, 1207.63it/s]\n"
          ]
        },
        {
          "output_type": "stream",
          "name": "stdout",
          "text": [
            "\n",
            "\n",
            "targets.shape: (2074,)\n",
            "contexts.shape: (2074, 5)\n",
            "labels.shape: (2074, 5)\n",
            "705\n"
          ]
        },
        {
          "output_type": "stream",
          "name": "stderr",
          "text": [
            "100%|██████████| 705/705 [00:00<00:00, 1098.76it/s]\n"
          ]
        },
        {
          "output_type": "stream",
          "name": "stdout",
          "text": [
            "\n",
            "\n",
            "targets.shape: (2203,)\n",
            "contexts.shape: (2203, 5)\n",
            "labels.shape: (2203, 5)\n",
            "19579\n"
          ]
        },
        {
          "output_type": "stream",
          "name": "stderr",
          "text": [
            "100%|██████████| 19579/19579 [00:14<00:00, 1318.81it/s]\n"
          ]
        },
        {
          "output_type": "stream",
          "name": "stdout",
          "text": [
            "\n",
            "\n",
            "targets.shape: (48542,)\n",
            "contexts.shape: (48542, 5)\n",
            "labels.shape: (48542, 5)\n",
            "952\n"
          ]
        },
        {
          "output_type": "stream",
          "name": "stderr",
          "text": [
            "100%|██████████| 952/952 [00:01<00:00, 666.21it/s]\n"
          ]
        },
        {
          "output_type": "stream",
          "name": "stdout",
          "text": [
            "\n",
            "\n",
            "targets.shape: (4637,)\n",
            "contexts.shape: (4637, 5)\n",
            "labels.shape: (4637, 5)\n",
            "1956\n"
          ]
        },
        {
          "output_type": "stream",
          "name": "stderr",
          "text": [
            "100%|██████████| 1956/1956 [00:01<00:00, 1028.45it/s]\n"
          ]
        },
        {
          "output_type": "stream",
          "name": "stdout",
          "text": [
            "\n",
            "\n",
            "targets.shape: (7577,)\n",
            "contexts.shape: (7577, 5)\n",
            "labels.shape: (7577, 5)\n",
            "2553\n"
          ]
        },
        {
          "output_type": "stream",
          "name": "stderr",
          "text": [
            "100%|██████████| 2553/2553 [00:01<00:00, 2443.34it/s]\n"
          ]
        },
        {
          "output_type": "stream",
          "name": "stdout",
          "text": [
            "\n",
            "\n",
            "targets.shape: (3861,)\n",
            "contexts.shape: (3861, 5)\n",
            "labels.shape: (3861, 5)\n",
            "374\n"
          ]
        },
        {
          "output_type": "stream",
          "name": "stderr",
          "text": [
            "100%|██████████| 374/374 [00:00<00:00, 1384.66it/s]\n"
          ]
        },
        {
          "output_type": "stream",
          "name": "stdout",
          "text": [
            "\n",
            "\n",
            "targets.shape: (926,)\n",
            "contexts.shape: (926, 5)\n",
            "labels.shape: (926, 5)\n",
            "4399\n"
          ]
        },
        {
          "output_type": "stream",
          "name": "stderr",
          "text": [
            "100%|██████████| 4399/4399 [00:01<00:00, 3676.32it/s]\n"
          ]
        },
        {
          "output_type": "stream",
          "name": "stdout",
          "text": [
            "\n",
            "\n",
            "targets.shape: (4131,)\n",
            "contexts.shape: (4131, 5)\n",
            "labels.shape: (4131, 5)\n",
            "4666\n"
          ]
        },
        {
          "output_type": "stream",
          "name": "stderr",
          "text": [
            "100%|██████████| 4666/4666 [00:01<00:00, 3229.89it/s]\n"
          ]
        },
        {
          "output_type": "stream",
          "name": "stdout",
          "text": [
            "\n",
            "\n",
            "targets.shape: (4263,)\n",
            "contexts.shape: (4263, 5)\n",
            "labels.shape: (4263, 5)\n",
            "762\n"
          ]
        },
        {
          "output_type": "stream",
          "name": "stderr",
          "text": [
            "100%|██████████| 762/762 [00:01<00:00, 685.85it/s]\n"
          ]
        },
        {
          "output_type": "stream",
          "name": "stdout",
          "text": [
            "\n",
            "\n",
            "targets.shape: (2807,)\n",
            "contexts.shape: (2807, 5)\n",
            "labels.shape: (2807, 5)\n",
            "15168\n"
          ]
        },
        {
          "output_type": "stream",
          "name": "stderr",
          "text": [
            "100%|██████████| 15168/15168 [00:13<00:00, 1121.14it/s]\n"
          ]
        },
        {
          "output_type": "stream",
          "name": "stdout",
          "text": [
            "\n",
            "\n",
            "targets.shape: (41797,)\n",
            "contexts.shape: (41797, 5)\n",
            "labels.shape: (41797, 5)\n",
            "5311\n"
          ]
        },
        {
          "output_type": "stream",
          "name": "stderr",
          "text": [
            "100%|██████████| 5311/5311 [00:01<00:00, 4276.69it/s]\n"
          ]
        },
        {
          "output_type": "stream",
          "name": "stdout",
          "text": [
            "\n",
            "\n",
            "targets.shape: (4211,)\n",
            "contexts.shape: (4211, 5)\n",
            "labels.shape: (4211, 5)\n",
            "689\n"
          ]
        },
        {
          "output_type": "stream",
          "name": "stderr",
          "text": [
            "100%|██████████| 689/689 [00:00<00:00, 958.02it/s]\n"
          ]
        },
        {
          "output_type": "stream",
          "name": "stdout",
          "text": [
            "\n",
            "\n",
            "targets.shape: (2274,)\n",
            "contexts.shape: (2274, 5)\n",
            "labels.shape: (2274, 5)\n",
            "865\n"
          ]
        },
        {
          "output_type": "stream",
          "name": "stderr",
          "text": [
            "100%|██████████| 865/865 [00:00<00:00, 1156.26it/s]\n"
          ]
        },
        {
          "output_type": "stream",
          "name": "stdout",
          "text": [
            "\n",
            "\n",
            "targets.shape: (2203,)\n",
            "contexts.shape: (2203, 5)\n",
            "labels.shape: (2203, 5)\n",
            "280\n"
          ]
        },
        {
          "output_type": "stream",
          "name": "stderr",
          "text": [
            "100%|██████████| 280/280 [00:00<00:00, 820.02it/s]\n"
          ]
        },
        {
          "output_type": "stream",
          "name": "stdout",
          "text": [
            "\n",
            "\n",
            "targets.shape: (678,)\n",
            "contexts.shape: (678, 5)\n",
            "labels.shape: (678, 5)\n",
            "435\n"
          ]
        },
        {
          "output_type": "stream",
          "name": "stderr",
          "text": [
            "100%|██████████| 435/435 [00:00<00:00, 1153.31it/s]\n"
          ]
        },
        {
          "output_type": "stream",
          "name": "stdout",
          "text": [
            "\n",
            "\n",
            "targets.shape: (1328,)\n",
            "contexts.shape: (1328, 5)\n",
            "labels.shape: (1328, 5)\n",
            "842\n"
          ]
        },
        {
          "output_type": "stream",
          "name": "stderr",
          "text": [
            "100%|██████████| 842/842 [00:00<00:00, 928.70it/s]\n"
          ]
        },
        {
          "output_type": "stream",
          "name": "stdout",
          "text": [
            "\n",
            "\n",
            "targets.shape: (3363,)\n",
            "contexts.shape: (3363, 5)\n",
            "labels.shape: (3363, 5)\n",
            "811\n"
          ]
        },
        {
          "output_type": "stream",
          "name": "stderr",
          "text": [
            "100%|██████████| 811/811 [00:00<00:00, 1426.00it/s]\n"
          ]
        },
        {
          "output_type": "stream",
          "name": "stdout",
          "text": [
            "\n",
            "\n",
            "targets.shape: (2170,)\n",
            "contexts.shape: (2170, 5)\n",
            "labels.shape: (2170, 5)\n",
            "604\n"
          ]
        },
        {
          "output_type": "stream",
          "name": "stderr",
          "text": [
            "100%|██████████| 604/604 [00:00<00:00, 1274.45it/s]\n"
          ]
        },
        {
          "output_type": "stream",
          "name": "stdout",
          "text": [
            "\n",
            "\n",
            "targets.shape: (1778,)\n",
            "contexts.shape: (1778, 5)\n",
            "labels.shape: (1778, 5)\n",
            "4754\n"
          ]
        },
        {
          "output_type": "stream",
          "name": "stderr",
          "text": [
            "100%|██████████| 4754/4754 [00:01<00:00, 3961.01it/s]\n"
          ]
        },
        {
          "output_type": "stream",
          "name": "stdout",
          "text": [
            "\n",
            "\n",
            "targets.shape: (4190,)\n",
            "contexts.shape: (4190, 5)\n",
            "labels.shape: (4190, 5)\n",
            "3107\n"
          ]
        },
        {
          "output_type": "stream",
          "name": "stderr",
          "text": [
            "100%|██████████| 3107/3107 [00:02<00:00, 1152.83it/s]\n"
          ]
        },
        {
          "output_type": "stream",
          "name": "stdout",
          "text": [
            "\n",
            "\n",
            "targets.shape: (10325,)\n",
            "contexts.shape: (10325, 5)\n",
            "labels.shape: (10325, 5)\n",
            "1327\n"
          ]
        },
        {
          "output_type": "stream",
          "name": "stderr",
          "text": [
            "100%|██████████| 1327/1327 [00:01<00:00, 727.03it/s]\n"
          ]
        },
        {
          "output_type": "stream",
          "name": "stdout",
          "text": [
            "\n",
            "\n",
            "targets.shape: (4995,)\n",
            "contexts.shape: (4995, 5)\n",
            "labels.shape: (4995, 5)\n",
            "735\n"
          ]
        },
        {
          "output_type": "stream",
          "name": "stderr",
          "text": [
            "100%|██████████| 735/735 [00:00<00:00, 980.21it/s] \n"
          ]
        },
        {
          "output_type": "stream",
          "name": "stdout",
          "text": [
            "\n",
            "\n",
            "targets.shape: (2467,)\n",
            "contexts.shape: (2467, 5)\n",
            "labels.shape: (2467, 5)\n",
            "51639\n"
          ]
        },
        {
          "output_type": "stream",
          "name": "stderr",
          "text": [
            "100%|██████████| 51639/51639 [00:03<00:00, 15802.34it/s]\n"
          ]
        },
        {
          "output_type": "stream",
          "name": "stdout",
          "text": [
            "\n",
            "\n",
            "targets.shape: (9130,)\n",
            "contexts.shape: (9130, 5)\n",
            "labels.shape: (9130, 5)\n",
            "2689\n"
          ]
        },
        {
          "output_type": "stream",
          "name": "stderr",
          "text": [
            "100%|██████████| 2689/2689 [00:01<00:00, 2430.04it/s]\n"
          ]
        },
        {
          "output_type": "stream",
          "name": "stdout",
          "text": [
            "\n",
            "\n",
            "targets.shape: (3857,)\n",
            "contexts.shape: (3857, 5)\n",
            "labels.shape: (3857, 5)\n",
            "15347\n"
          ]
        },
        {
          "output_type": "stream",
          "name": "stderr",
          "text": [
            "100%|██████████| 15347/15347 [00:01<00:00, 9299.12it/s]\n"
          ]
        },
        {
          "output_type": "stream",
          "name": "stdout",
          "text": [
            "\n",
            "\n",
            "targets.shape: (4813,)\n",
            "contexts.shape: (4813, 5)\n",
            "labels.shape: (4813, 5)\n",
            "1138\n"
          ]
        },
        {
          "output_type": "stream",
          "name": "stderr",
          "text": [
            "100%|██████████| 1138/1138 [00:00<00:00, 1154.67it/s]\n"
          ]
        },
        {
          "output_type": "stream",
          "name": "stdout",
          "text": [
            "\n",
            "\n",
            "targets.shape: (3630,)\n",
            "contexts.shape: (3630, 5)\n",
            "labels.shape: (3630, 5)\n",
            "16802\n"
          ]
        },
        {
          "output_type": "stream",
          "name": "stderr",
          "text": [
            "100%|██████████| 16802/16802 [00:03<00:00, 5133.67it/s]\n"
          ]
        },
        {
          "output_type": "stream",
          "name": "stdout",
          "text": [
            "\n",
            "\n",
            "targets.shape: (7999,)\n",
            "contexts.shape: (7999, 5)\n",
            "labels.shape: (7999, 5)\n",
            "4338\n"
          ]
        },
        {
          "output_type": "stream",
          "name": "stderr",
          "text": [
            "100%|██████████| 4338/4338 [00:01<00:00, 3710.04it/s]\n"
          ]
        },
        {
          "output_type": "stream",
          "name": "stdout",
          "text": [
            "\n",
            "\n",
            "targets.shape: (4067,)\n",
            "contexts.shape: (4067, 5)\n",
            "labels.shape: (4067, 5)\n",
            "780\n"
          ]
        },
        {
          "output_type": "stream",
          "name": "stderr",
          "text": [
            "100%|██████████| 780/780 [00:00<00:00, 1185.65it/s]\n"
          ]
        },
        {
          "output_type": "stream",
          "name": "stdout",
          "text": [
            "\n",
            "\n",
            "targets.shape: (2547,)\n",
            "contexts.shape: (2547, 5)\n",
            "labels.shape: (2547, 5)\n",
            "16913\n"
          ]
        },
        {
          "output_type": "stream",
          "name": "stderr",
          "text": [
            "100%|██████████| 16913/16913 [00:01<00:00, 10879.70it/s]\n"
          ]
        },
        {
          "output_type": "stream",
          "name": "stdout",
          "text": [
            "\n",
            "\n",
            "targets.shape: (4805,)\n",
            "contexts.shape: (4805, 5)\n",
            "labels.shape: (4805, 5)\n",
            "3501\n"
          ]
        },
        {
          "output_type": "stream",
          "name": "stderr",
          "text": [
            "100%|██████████| 3501/3501 [00:01<00:00, 2301.39it/s]\n"
          ]
        },
        {
          "output_type": "stream",
          "name": "stdout",
          "text": [
            "\n",
            "\n",
            "targets.shape: (4132,)\n",
            "contexts.shape: (4132, 5)\n",
            "labels.shape: (4132, 5)\n",
            "1510\n"
          ]
        },
        {
          "output_type": "stream",
          "name": "stderr",
          "text": [
            "100%|██████████| 1510/1510 [00:01<00:00, 1132.39it/s]\n"
          ]
        },
        {
          "output_type": "stream",
          "name": "stdout",
          "text": [
            "\n",
            "\n",
            "targets.shape: (5041,)\n",
            "contexts.shape: (5041, 5)\n",
            "labels.shape: (5041, 5)\n",
            "6468\n"
          ]
        },
        {
          "output_type": "stream",
          "name": "stderr",
          "text": [
            "100%|██████████| 6468/6468 [00:01<00:00, 4685.69it/s]\n"
          ]
        },
        {
          "output_type": "stream",
          "name": "stdout",
          "text": [
            "\n",
            "\n",
            "targets.shape: (4726,)\n",
            "contexts.shape: (4726, 5)\n",
            "labels.shape: (4726, 5)\n",
            "7739\n"
          ]
        },
        {
          "output_type": "stream",
          "name": "stderr",
          "text": [
            "100%|██████████| 7739/7739 [00:02<00:00, 2981.60it/s]\n"
          ]
        },
        {
          "output_type": "stream",
          "name": "stdout",
          "text": [
            "\n",
            "\n",
            "targets.shape: (4554,)\n",
            "contexts.shape: (4554, 5)\n",
            "labels.shape: (4554, 5)\n",
            "404\n"
          ]
        },
        {
          "output_type": "stream",
          "name": "stderr",
          "text": [
            "100%|██████████| 404/404 [00:00<00:00, 424.47it/s]\n"
          ]
        },
        {
          "output_type": "stream",
          "name": "stdout",
          "text": [
            "\n",
            "\n",
            "targets.shape: (1111,)\n",
            "contexts.shape: (1111, 5)\n",
            "labels.shape: (1111, 5)\n",
            "11904\n"
          ]
        },
        {
          "output_type": "stream",
          "name": "stderr",
          "text": [
            "100%|██████████| 11904/11904 [00:03<00:00, 3859.39it/s]\n"
          ]
        },
        {
          "output_type": "stream",
          "name": "stdout",
          "text": [
            "\n",
            "\n",
            "targets.shape: (10284,)\n",
            "contexts.shape: (10284, 5)\n",
            "labels.shape: (10284, 5)\n",
            "124878\n"
          ]
        },
        {
          "output_type": "stream",
          "name": "stderr",
          "text": [
            "100%|██████████| 124878/124878 [00:06<00:00, 18426.54it/s]\n"
          ]
        },
        {
          "output_type": "stream",
          "name": "stdout",
          "text": [
            "\n",
            "\n",
            "targets.shape: (14879,)\n",
            "contexts.shape: (14879, 5)\n",
            "labels.shape: (14879, 5)\n",
            "470\n"
          ]
        },
        {
          "output_type": "stream",
          "name": "stderr",
          "text": [
            "100%|██████████| 470/470 [00:00<00:00, 1283.25it/s]\n"
          ]
        },
        {
          "output_type": "stream",
          "name": "stdout",
          "text": [
            "\n",
            "\n",
            "targets.shape: (1070,)\n",
            "contexts.shape: (1070, 5)\n",
            "labels.shape: (1070, 5)\n",
            "560\n"
          ]
        },
        {
          "output_type": "stream",
          "name": "stderr",
          "text": [
            "100%|██████████| 560/560 [00:00<00:00, 1420.37it/s]\n"
          ]
        },
        {
          "output_type": "stream",
          "name": "stdout",
          "text": [
            "\n",
            "\n",
            "targets.shape: (1469,)\n",
            "contexts.shape: (1469, 5)\n",
            "labels.shape: (1469, 5)\n",
            "4\n"
          ]
        },
        {
          "output_type": "stream",
          "name": "stderr",
          "text": [
            "100%|██████████| 4/4 [00:00<00:00, 358.45it/s]\n"
          ]
        },
        {
          "output_type": "stream",
          "name": "stdout",
          "text": [
            "\n",
            "\n",
            "targets.shape: (24,)\n",
            "contexts.shape: (24, 5)\n",
            "labels.shape: (24, 5)\n",
            "23302\n"
          ]
        },
        {
          "output_type": "stream",
          "name": "stderr",
          "text": [
            "100%|██████████| 23302/23302 [00:06<00:00, 3689.04it/s]\n"
          ]
        },
        {
          "output_type": "stream",
          "name": "stdout",
          "text": [
            "\n",
            "\n",
            "targets.shape: (21665,)\n",
            "contexts.shape: (21665, 5)\n",
            "labels.shape: (21665, 5)\n",
            "628\n"
          ]
        },
        {
          "output_type": "stream",
          "name": "stderr",
          "text": [
            "100%|██████████| 628/628 [00:00<00:00, 1014.43it/s]\n"
          ]
        },
        {
          "output_type": "stream",
          "name": "stdout",
          "text": [
            "\n",
            "\n",
            "targets.shape: (1705,)\n",
            "contexts.shape: (1705, 5)\n",
            "labels.shape: (1705, 5)\n",
            "122853\n"
          ]
        },
        {
          "output_type": "stream",
          "name": "stderr",
          "text": [
            "100%|██████████| 122853/122853 [00:05<00:00, 20536.49it/s]\n"
          ]
        },
        {
          "output_type": "stream",
          "name": "stdout",
          "text": [
            "\n",
            "\n",
            "targets.shape: (12496,)\n",
            "contexts.shape: (12496, 5)\n",
            "labels.shape: (12496, 5)\n",
            "1996\n"
          ]
        },
        {
          "output_type": "stream",
          "name": "stderr",
          "text": [
            "100%|██████████| 1996/1996 [00:00<00:00, 2238.03it/s]\n"
          ]
        },
        {
          "output_type": "stream",
          "name": "stdout",
          "text": [
            "\n",
            "\n",
            "targets.shape: (3043,)\n",
            "contexts.shape: (3043, 5)\n",
            "labels.shape: (3043, 5)\n",
            "1620\n"
          ]
        },
        {
          "output_type": "stream",
          "name": "stderr",
          "text": [
            "100%|██████████| 1620/1620 [00:01<00:00, 1413.37it/s]\n"
          ]
        },
        {
          "output_type": "stream",
          "name": "stdout",
          "text": [
            "\n",
            "\n",
            "targets.shape: (3436,)\n",
            "contexts.shape: (3436, 5)\n",
            "labels.shape: (3436, 5)\n",
            "2186\n"
          ]
        },
        {
          "output_type": "stream",
          "name": "stderr",
          "text": [
            "100%|██████████| 2186/2186 [00:00<00:00, 3743.77it/s]\n"
          ]
        },
        {
          "output_type": "stream",
          "name": "stdout",
          "text": [
            "\n",
            "\n",
            "targets.shape: (2075,)\n",
            "contexts.shape: (2075, 5)\n",
            "labels.shape: (2075, 5)\n",
            "1946\n"
          ]
        },
        {
          "output_type": "stream",
          "name": "stderr",
          "text": [
            "100%|██████████| 1946/1946 [00:01<00:00, 1378.05it/s]\n"
          ]
        },
        {
          "output_type": "stream",
          "name": "stdout",
          "text": [
            "\n",
            "\n",
            "targets.shape: (4022,)\n",
            "contexts.shape: (4022, 5)\n",
            "labels.shape: (4022, 5)\n",
            "3964\n"
          ]
        },
        {
          "output_type": "stream",
          "name": "stderr",
          "text": [
            "100%|██████████| 3964/3964 [00:01<00:00, 3369.56it/s]\n"
          ]
        },
        {
          "output_type": "stream",
          "name": "stdout",
          "text": [
            "\n",
            "\n",
            "targets.shape: (4287,)\n",
            "contexts.shape: (4287, 5)\n",
            "labels.shape: (4287, 5)\n",
            "8106\n"
          ]
        },
        {
          "output_type": "stream",
          "name": "stderr",
          "text": [
            "100%|██████████| 8106/8106 [00:01<00:00, 5829.52it/s]\n"
          ]
        },
        {
          "output_type": "stream",
          "name": "stdout",
          "text": [
            "\n",
            "\n",
            "targets.shape: (4758,)\n",
            "contexts.shape: (4758, 5)\n",
            "labels.shape: (4758, 5)\n",
            "1370\n"
          ]
        },
        {
          "output_type": "stream",
          "name": "stderr",
          "text": [
            "100%|██████████| 1370/1370 [00:00<00:00, 1675.54it/s]\n"
          ]
        },
        {
          "output_type": "stream",
          "name": "stdout",
          "text": [
            "\n",
            "\n",
            "targets.shape: (3092,)\n",
            "contexts.shape: (3092, 5)\n",
            "labels.shape: (3092, 5)\n",
            "107213\n"
          ]
        },
        {
          "output_type": "stream",
          "name": "stderr",
          "text": [
            "100%|██████████| 107213/107213 [00:06<00:00, 16442.14it/s]\n"
          ]
        },
        {
          "output_type": "stream",
          "name": "stdout",
          "text": [
            "\n",
            "\n",
            "targets.shape: (14938,)\n",
            "contexts.shape: (14938, 5)\n",
            "labels.shape: (14938, 5)\n",
            "1050\n"
          ]
        },
        {
          "output_type": "stream",
          "name": "stderr",
          "text": [
            "100%|██████████| 1050/1050 [00:01<00:00, 1038.41it/s]\n"
          ]
        },
        {
          "output_type": "stream",
          "name": "stdout",
          "text": [
            "\n",
            "\n",
            "targets.shape: (3622,)\n",
            "contexts.shape: (3622, 5)\n",
            "labels.shape: (3622, 5)\n",
            "576\n"
          ]
        },
        {
          "output_type": "stream",
          "name": "stderr",
          "text": [
            "100%|██████████| 576/576 [00:00<00:00, 1728.45it/s]\n"
          ]
        },
        {
          "output_type": "stream",
          "name": "stdout",
          "text": [
            "\n",
            "\n",
            "targets.shape: (1292,)\n",
            "contexts.shape: (1292, 5)\n",
            "labels.shape: (1292, 5)\n",
            "12156\n"
          ]
        },
        {
          "output_type": "stream",
          "name": "stderr",
          "text": [
            "100%|██████████| 12156/12156 [00:01<00:00, 7204.18it/s]\n"
          ]
        },
        {
          "output_type": "stream",
          "name": "stdout",
          "text": [
            "\n",
            "\n",
            "targets.shape: (5592,)\n",
            "contexts.shape: (5592, 5)\n",
            "labels.shape: (5592, 5)\n",
            "4646\n"
          ]
        },
        {
          "output_type": "stream",
          "name": "stderr",
          "text": [
            "100%|██████████| 4646/4646 [00:01<00:00, 4004.93it/s]\n"
          ]
        },
        {
          "output_type": "stream",
          "name": "stdout",
          "text": [
            "\n",
            "\n",
            "targets.shape: (4002,)\n",
            "contexts.shape: (4002, 5)\n",
            "labels.shape: (4002, 5)\n",
            "958\n"
          ]
        },
        {
          "output_type": "stream",
          "name": "stderr",
          "text": [
            "100%|██████████| 958/958 [00:00<00:00, 1139.54it/s]\n"
          ]
        },
        {
          "output_type": "stream",
          "name": "stdout",
          "text": [
            "\n",
            "\n",
            "targets.shape: (2438,)\n",
            "contexts.shape: (2438, 5)\n",
            "labels.shape: (2438, 5)\n",
            "369\n"
          ]
        },
        {
          "output_type": "stream",
          "name": "stderr",
          "text": [
            "100%|██████████| 369/369 [00:00<00:00, 1129.02it/s]\n"
          ]
        },
        {
          "output_type": "stream",
          "name": "stdout",
          "text": [
            "\n",
            "\n",
            "targets.shape: (755,)\n",
            "contexts.shape: (755, 5)\n",
            "labels.shape: (755, 5)\n",
            "10071\n"
          ]
        },
        {
          "output_type": "stream",
          "name": "stderr",
          "text": [
            "100%|██████████| 10071/10071 [00:02<00:00, 4340.44it/s]\n"
          ]
        },
        {
          "output_type": "stream",
          "name": "stdout",
          "text": [
            "\n",
            "\n",
            "targets.shape: (8269,)\n",
            "contexts.shape: (8269, 5)\n",
            "labels.shape: (8269, 5)\n",
            "30265\n"
          ]
        },
        {
          "output_type": "stream",
          "name": "stderr",
          "text": [
            "100%|██████████| 30265/30265 [00:27<00:00, 1090.73it/s]\n"
          ]
        },
        {
          "output_type": "stream",
          "name": "stdout",
          "text": [
            "\n",
            "\n",
            "targets.shape: (92993,)\n",
            "contexts.shape: (92993, 5)\n",
            "labels.shape: (92993, 5)\n",
            "3915\n"
          ]
        },
        {
          "output_type": "stream",
          "name": "stderr",
          "text": [
            "100%|██████████| 3915/3915 [00:01<00:00, 3603.69it/s]\n"
          ]
        },
        {
          "output_type": "stream",
          "name": "stdout",
          "text": [
            "\n",
            "\n",
            "targets.shape: (3847,)\n",
            "contexts.shape: (3847, 5)\n",
            "labels.shape: (3847, 5)\n",
            "90465\n"
          ]
        },
        {
          "output_type": "stream",
          "name": "stderr",
          "text": [
            "100%|██████████| 90465/90465 [00:04<00:00, 18130.89it/s]\n"
          ]
        },
        {
          "output_type": "stream",
          "name": "stdout",
          "text": [
            "\n",
            "\n",
            "targets.shape: (13007,)\n",
            "contexts.shape: (13007, 5)\n",
            "labels.shape: (13007, 5)\n",
            "803\n"
          ]
        },
        {
          "output_type": "stream",
          "name": "stderr",
          "text": [
            "100%|██████████| 803/803 [00:01<00:00, 756.53it/s]\n"
          ]
        },
        {
          "output_type": "stream",
          "name": "stdout",
          "text": [
            "\n",
            "\n",
            "targets.shape: (2764,)\n",
            "contexts.shape: (2764, 5)\n",
            "labels.shape: (2764, 5)\n",
            "906\n"
          ]
        },
        {
          "output_type": "stream",
          "name": "stderr",
          "text": [
            "100%|██████████| 906/906 [00:00<00:00, 1118.59it/s]\n"
          ]
        },
        {
          "output_type": "stream",
          "name": "stdout",
          "text": [
            "\n",
            "\n",
            "targets.shape: (3004,)\n",
            "contexts.shape: (3004, 5)\n",
            "labels.shape: (3004, 5)\n",
            "894\n"
          ]
        },
        {
          "output_type": "stream",
          "name": "stderr",
          "text": [
            "100%|██████████| 894/894 [00:00<00:00, 1318.69it/s]\n"
          ]
        },
        {
          "output_type": "stream",
          "name": "stdout",
          "text": [
            "\n",
            "\n",
            "targets.shape: (2621,)\n",
            "contexts.shape: (2621, 5)\n",
            "labels.shape: (2621, 5)\n",
            "991\n"
          ]
        },
        {
          "output_type": "stream",
          "name": "stderr",
          "text": [
            "100%|██████████| 991/991 [00:00<00:00, 1223.31it/s]\n"
          ]
        },
        {
          "output_type": "stream",
          "name": "stdout",
          "text": [
            "\n",
            "\n",
            "targets.shape: (3087,)\n",
            "contexts.shape: (3087, 5)\n",
            "labels.shape: (3087, 5)\n",
            "820\n"
          ]
        },
        {
          "output_type": "stream",
          "name": "stderr",
          "text": [
            "100%|██████████| 820/820 [00:00<00:00, 1157.20it/s]\n"
          ]
        },
        {
          "output_type": "stream",
          "name": "stdout",
          "text": [
            "\n",
            "\n",
            "targets.shape: (2696,)\n",
            "contexts.shape: (2696, 5)\n",
            "labels.shape: (2696, 5)\n",
            "490\n"
          ]
        },
        {
          "output_type": "stream",
          "name": "stderr",
          "text": [
            "100%|██████████| 490/490 [00:00<00:00, 1448.10it/s]\n"
          ]
        },
        {
          "output_type": "stream",
          "name": "stdout",
          "text": [
            "\n",
            "\n",
            "targets.shape: (1292,)\n",
            "contexts.shape: (1292, 5)\n",
            "labels.shape: (1292, 5)\n",
            "313\n"
          ]
        },
        {
          "output_type": "stream",
          "name": "stderr",
          "text": [
            "100%|██████████| 313/313 [00:00<00:00, 1507.97it/s]\n"
          ]
        },
        {
          "output_type": "stream",
          "name": "stdout",
          "text": [
            "\n",
            "\n",
            "targets.shape: (785,)\n",
            "contexts.shape: (785, 5)\n",
            "labels.shape: (785, 5)\n",
            "1350\n"
          ]
        },
        {
          "output_type": "stream",
          "name": "stderr",
          "text": [
            "100%|██████████| 1350/1350 [00:00<00:00, 1548.11it/s]\n"
          ]
        },
        {
          "output_type": "stream",
          "name": "stdout",
          "text": [
            "\n",
            "\n",
            "targets.shape: (3408,)\n",
            "contexts.shape: (3408, 5)\n",
            "labels.shape: (3408, 5)\n",
            "9120\n"
          ]
        },
        {
          "output_type": "stream",
          "name": "stderr",
          "text": [
            "100%|██████████| 9120/9120 [00:01<00:00, 6212.16it/s]\n"
          ]
        },
        {
          "output_type": "stream",
          "name": "stdout",
          "text": [
            "\n",
            "\n",
            "targets.shape: (4486,)\n",
            "contexts.shape: (4486, 5)\n",
            "labels.shape: (4486, 5)\n",
            "794\n"
          ]
        },
        {
          "output_type": "stream",
          "name": "stderr",
          "text": [
            "100%|██████████| 794/794 [00:00<00:00, 1113.33it/s]\n"
          ]
        },
        {
          "output_type": "stream",
          "name": "stdout",
          "text": [
            "\n",
            "\n",
            "targets.shape: (2141,)\n",
            "contexts.shape: (2141, 5)\n",
            "labels.shape: (2141, 5)\n",
            "600\n"
          ]
        },
        {
          "output_type": "stream",
          "name": "stderr",
          "text": [
            "100%|██████████| 600/600 [00:00<00:00, 1811.94it/s]\n"
          ]
        },
        {
          "output_type": "stream",
          "name": "stdout",
          "text": [
            "\n",
            "\n",
            "targets.shape: (762,)\n",
            "contexts.shape: (762, 5)\n",
            "labels.shape: (762, 5)\n",
            "1227\n"
          ]
        },
        {
          "output_type": "stream",
          "name": "stderr",
          "text": [
            "100%|██████████| 1227/1227 [00:01<00:00, 1084.64it/s]\n"
          ]
        },
        {
          "output_type": "stream",
          "name": "stdout",
          "text": [
            "\n",
            "\n",
            "targets.shape: (4334,)\n",
            "contexts.shape: (4334, 5)\n",
            "labels.shape: (4334, 5)\n",
            "17877\n"
          ]
        },
        {
          "output_type": "stream",
          "name": "stderr",
          "text": [
            "100%|██████████| 17877/17877 [00:04<00:00, 3595.23it/s]\n"
          ]
        },
        {
          "output_type": "stream",
          "name": "stdout",
          "text": [
            "\n",
            "\n",
            "targets.shape: (16642,)\n",
            "contexts.shape: (16642, 5)\n",
            "labels.shape: (16642, 5)\n",
            "5196\n"
          ]
        },
        {
          "output_type": "stream",
          "name": "stderr",
          "text": [
            "100%|██████████| 5196/5196 [00:01<00:00, 3747.32it/s]\n"
          ]
        },
        {
          "output_type": "stream",
          "name": "stdout",
          "text": [
            "\n",
            "\n",
            "targets.shape: (4120,)\n",
            "contexts.shape: (4120, 5)\n",
            "labels.shape: (4120, 5)\n",
            "1057\n"
          ]
        },
        {
          "output_type": "stream",
          "name": "stderr",
          "text": [
            "100%|██████████| 1057/1057 [00:00<00:00, 2134.12it/s]\n"
          ]
        },
        {
          "output_type": "stream",
          "name": "stdout",
          "text": [
            "\n",
            "\n",
            "targets.shape: (1772,)\n",
            "contexts.shape: (1772, 5)\n",
            "labels.shape: (1772, 5)\n",
            "915\n"
          ]
        },
        {
          "output_type": "stream",
          "name": "stderr",
          "text": [
            "100%|██████████| 915/915 [00:00<00:00, 1726.84it/s]\n"
          ]
        },
        {
          "output_type": "stream",
          "name": "stdout",
          "text": [
            "\n",
            "\n",
            "targets.shape: (2036,)\n",
            "contexts.shape: (2036, 5)\n",
            "labels.shape: (2036, 5)\n",
            "30602\n"
          ]
        },
        {
          "output_type": "stream",
          "name": "stderr",
          "text": [
            "100%|██████████| 30602/30602 [00:18<00:00, 1633.75it/s]\n"
          ]
        },
        {
          "output_type": "stream",
          "name": "stdout",
          "text": [
            "\n",
            "\n",
            "targets.shape: (64992,)\n",
            "contexts.shape: (64992, 5)\n",
            "labels.shape: (64992, 5)\n",
            "555\n"
          ]
        },
        {
          "output_type": "stream",
          "name": "stderr",
          "text": [
            "100%|██████████| 555/555 [00:00<00:00, 2296.03it/s]\n"
          ]
        },
        {
          "output_type": "stream",
          "name": "stdout",
          "text": [
            "\n",
            "\n",
            "targets.shape: (769,)\n",
            "contexts.shape: (769, 5)\n",
            "labels.shape: (769, 5)\n",
            "622\n"
          ]
        },
        {
          "output_type": "stream",
          "name": "stderr",
          "text": [
            "100%|██████████| 622/622 [00:00<00:00, 1556.96it/s]\n"
          ]
        },
        {
          "output_type": "stream",
          "name": "stdout",
          "text": [
            "\n",
            "\n",
            "targets.shape: (1429,)\n",
            "contexts.shape: (1429, 5)\n",
            "labels.shape: (1429, 5)\n",
            "34541\n"
          ]
        },
        {
          "output_type": "stream",
          "name": "stderr",
          "text": [
            "100%|██████████| 34541/34541 [00:02<00:00, 15179.39it/s]\n"
          ]
        },
        {
          "output_type": "stream",
          "name": "stdout",
          "text": [
            "\n",
            "\n",
            "targets.shape: (6151,)\n",
            "contexts.shape: (6151, 5)\n",
            "labels.shape: (6151, 5)\n",
            "663\n"
          ]
        },
        {
          "output_type": "stream",
          "name": "stderr",
          "text": [
            "100%|██████████| 663/663 [00:00<00:00, 1169.54it/s]\n"
          ]
        },
        {
          "output_type": "stream",
          "name": "stdout",
          "text": [
            "\n",
            "\n",
            "targets.shape: (2051,)\n",
            "contexts.shape: (2051, 5)\n",
            "labels.shape: (2051, 5)\n",
            "2086\n"
          ]
        },
        {
          "output_type": "stream",
          "name": "stderr",
          "text": [
            "100%|██████████| 2086/2086 [00:00<00:00, 2119.60it/s]\n"
          ]
        },
        {
          "output_type": "stream",
          "name": "stdout",
          "text": [
            "\n",
            "\n",
            "targets.shape: (3729,)\n",
            "contexts.shape: (3729, 5)\n",
            "labels.shape: (3729, 5)\n",
            "1361\n"
          ]
        },
        {
          "output_type": "stream",
          "name": "stderr",
          "text": [
            "100%|██████████| 1361/1361 [00:01<00:00, 918.67it/s] \n"
          ]
        },
        {
          "output_type": "stream",
          "name": "stdout",
          "text": [
            "\n",
            "\n",
            "targets.shape: (4461,)\n",
            "contexts.shape: (4461, 5)\n",
            "labels.shape: (4461, 5)\n",
            "93472\n"
          ]
        },
        {
          "output_type": "stream",
          "name": "stderr",
          "text": [
            "100%|██████████| 93472/93472 [00:04<00:00, 19250.17it/s]\n"
          ]
        },
        {
          "output_type": "stream",
          "name": "stdout",
          "text": [
            "\n",
            "\n",
            "targets.shape: (11943,)\n",
            "contexts.shape: (11943, 5)\n",
            "labels.shape: (11943, 5)\n",
            "4995\n"
          ]
        },
        {
          "output_type": "stream",
          "name": "stderr",
          "text": [
            "100%|██████████| 4995/4995 [00:01<00:00, 3240.96it/s]\n"
          ]
        },
        {
          "output_type": "stream",
          "name": "stdout",
          "text": [
            "\n",
            "\n",
            "targets.shape: (4292,)\n",
            "contexts.shape: (4292, 5)\n",
            "labels.shape: (4292, 5)\n",
            "6614\n"
          ]
        },
        {
          "output_type": "stream",
          "name": "stderr",
          "text": [
            "100%|██████████| 6614/6614 [00:01<00:00, 4928.94it/s]\n"
          ]
        },
        {
          "output_type": "stream",
          "name": "stdout",
          "text": [
            "\n",
            "\n",
            "targets.shape: (4382,)\n",
            "contexts.shape: (4382, 5)\n",
            "labels.shape: (4382, 5)\n",
            "1087\n"
          ]
        },
        {
          "output_type": "stream",
          "name": "stderr",
          "text": [
            "100%|██████████| 1087/1087 [00:01<00:00, 960.63it/s]\n"
          ]
        },
        {
          "output_type": "stream",
          "name": "stdout",
          "text": [
            "\n",
            "\n",
            "targets.shape: (4220,)\n",
            "contexts.shape: (4220, 5)\n",
            "labels.shape: (4220, 5)\n",
            "4240\n"
          ]
        },
        {
          "output_type": "stream",
          "name": "stderr",
          "text": [
            "100%|██████████| 4240/4240 [00:01<00:00, 3791.26it/s]\n"
          ]
        },
        {
          "output_type": "stream",
          "name": "stdout",
          "text": [
            "\n",
            "\n",
            "targets.shape: (3773,)\n",
            "contexts.shape: (3773, 5)\n",
            "labels.shape: (3773, 5)\n",
            "11538\n"
          ]
        },
        {
          "output_type": "stream",
          "name": "stderr",
          "text": [
            "100%|██████████| 11538/11538 [00:02<00:00, 5000.08it/s]\n"
          ]
        },
        {
          "output_type": "stream",
          "name": "stdout",
          "text": [
            "\n",
            "\n",
            "targets.shape: (5383,)\n",
            "contexts.shape: (5383, 5)\n",
            "labels.shape: (5383, 5)\n",
            "508\n"
          ]
        },
        {
          "output_type": "stream",
          "name": "stderr",
          "text": [
            "100%|██████████| 508/508 [00:00<00:00, 1100.85it/s]\n"
          ]
        },
        {
          "output_type": "stream",
          "name": "stdout",
          "text": [
            "\n",
            "\n",
            "targets.shape: (1692,)\n",
            "contexts.shape: (1692, 5)\n",
            "labels.shape: (1692, 5)\n",
            "67613\n"
          ]
        },
        {
          "output_type": "stream",
          "name": "stderr",
          "text": [
            "100%|██████████| 67613/67613 [00:04<00:00, 14928.67it/s]\n"
          ]
        },
        {
          "output_type": "stream",
          "name": "stdout",
          "text": [
            "\n",
            "\n",
            "targets.shape: (12947,)\n",
            "contexts.shape: (12947, 5)\n",
            "labels.shape: (12947, 5)\n",
            "9101\n"
          ]
        },
        {
          "output_type": "stream",
          "name": "stderr",
          "text": [
            "100%|██████████| 9101/9101 [00:01<00:00, 5835.02it/s]\n"
          ]
        },
        {
          "output_type": "stream",
          "name": "stdout",
          "text": [
            "\n",
            "\n",
            "targets.shape: (4770,)\n",
            "contexts.shape: (4770, 5)\n",
            "labels.shape: (4770, 5)\n",
            "17624\n"
          ]
        },
        {
          "output_type": "stream",
          "name": "stderr",
          "text": [
            "100%|██████████| 17624/17624 [00:01<00:00, 10376.76it/s]"
          ]
        },
        {
          "output_type": "stream",
          "name": "stdout",
          "text": [
            "\n",
            "\n",
            "targets.shape: (4960,)\n",
            "contexts.shape: (4960, 5)\n",
            "labels.shape: (4960, 5)\n"
          ]
        },
        {
          "output_type": "stream",
          "name": "stderr",
          "text": [
            "\n"
          ]
        }
      ]
    },
    {
      "cell_type": "markdown",
      "metadata": {
        "id": "97PqsusOFEpc"
      },
      "source": [
        "### Configure the dataset for performance"
      ]
    },
    {
      "cell_type": "markdown",
      "metadata": {
        "id": "7jnFVySViQTj"
      },
      "source": [
        "To perform efficient batching for the potentially large number of training examples, use the `tf.data.Dataset` API. After this step, you would have a `tf.data.Dataset` object of `(target_word, context_word), (label)` elements to train your word2vec model!"
      ]
    },
    {
      "cell_type": "code",
      "execution_count": null,
      "metadata": {
        "id": "nbu8PxPSnVY2",
        "colab": {
          "base_uri": "https://localhost:8080/"
        },
        "outputId": "259395aa-394d-4d79-da85-633e0176ebcd"
      },
      "outputs": [
        {
          "output_type": "stream",
          "name": "stdout",
          "text": [
            "<_BatchDataset element_spec=((TensorSpec(shape=(1024,), dtype=tf.int64, name=None), TensorSpec(shape=(1024, 5), dtype=tf.int64, name=None)), TensorSpec(shape=(1024, 5), dtype=tf.int64, name=None))>\n"
          ]
        }
      ],
      "source": [
        "BATCH_SIZE = 1024\n",
        "BUFFER_SIZE = 10000\n",
        "dataset = tf.data.Dataset.from_tensor_slices(((targets, contexts), labels))\n",
        "dataset = dataset.shuffle(BUFFER_SIZE).batch(BATCH_SIZE, drop_remainder=True)\n",
        "print(dataset)"
      ]
    },
    {
      "cell_type": "markdown",
      "metadata": {
        "id": "tyrNX6Fs6K3F"
      },
      "source": [
        "Apply `Dataset.cache` and `Dataset.prefetch` to improve performance:"
      ]
    },
    {
      "cell_type": "code",
      "execution_count": null,
      "metadata": {
        "id": "Y5Ueg6bcFPVL",
        "colab": {
          "base_uri": "https://localhost:8080/"
        },
        "outputId": "e64b4d8d-9546-4acf-e61c-875b24c72e93"
      },
      "outputs": [
        {
          "output_type": "stream",
          "name": "stdout",
          "text": [
            "<_PrefetchDataset element_spec=((TensorSpec(shape=(1024,), dtype=tf.int64, name=None), TensorSpec(shape=(1024, 5), dtype=tf.int64, name=None)), TensorSpec(shape=(1024, 5), dtype=tf.int64, name=None))>\n"
          ]
        }
      ],
      "source": [
        "dataset = dataset.cache().prefetch(buffer_size=AUTOTUNE)\n",
        "print(dataset)"
      ]
    },
    {
      "cell_type": "markdown",
      "metadata": {
        "id": "1S-CmUMszyEf"
      },
      "source": [
        "## Model and training"
      ]
    },
    {
      "cell_type": "markdown",
      "metadata": {
        "id": "sQFqaBMPwBqC"
      },
      "source": [
        "The word2vec model can be implemented as a classifier to distinguish between true context words from skip-grams and false context words obtained through negative sampling. You can perform a dot product multiplication between the embeddings of target and context words to obtain predictions for labels and compute the loss function against true labels in the dataset."
      ]
    },
    {
      "cell_type": "markdown",
      "metadata": {
        "id": "oc7kTbiwD9sy"
      },
      "source": [
        "### Subclassed word2vec model"
      ]
    },
    {
      "cell_type": "markdown",
      "metadata": {
        "id": "Jvr9pM1G1sQN"
      },
      "source": [
        "Use the [Keras Subclassing API](https://www.tensorflow.org/guide/keras/custom_layers_and_models) to define your word2vec model with the following layers:\n",
        "\n",
        "* `target_embedding`: A `tf.keras.layers.Embedding` layer, which looks up the embedding of a word when it appears as a target word. The number of parameters in this layer are `(vocab_size * embedding_dim)`.\n",
        "* `context_embedding`: Another `tf.keras.layers.Embedding` layer, which looks up the embedding of a word when it appears as a context word. The number of parameters in this layer are the same as those in `target_embedding`, i.e. `(vocab_size * embedding_dim)`.\n",
        "* `dots`: A `tf.keras.layers.Dot` layer that computes the dot product of target and context embeddings from a training pair.\n",
        "* `flatten`: A `tf.keras.layers.Flatten` layer to flatten the results of `dots` layer into logits.\n",
        "\n",
        "With the subclassed model, you can define the `call()` function that accepts `(target, context)` pairs which can then be passed into their corresponding embedding layer. Reshape the `context_embedding` to perform a dot product with `target_embedding` and return the flattened result."
      ]
    },
    {
      "cell_type": "markdown",
      "metadata": {
        "id": "KiAwuIqqw7-7"
      },
      "source": [
        "Key point: The `target_embedding` and `context_embedding` layers can be shared as well. You could also use a concatenation of both embeddings as the final word2vec embedding."
      ]
    },
    {
      "cell_type": "code",
      "execution_count": null,
      "metadata": {
        "id": "i9ec-sS6xd8Z"
      },
      "outputs": [],
      "source": [
        "class Word2Vec(tf.keras.Model):\n",
        "  def __init__(self, vocab_size, embedding_dim):\n",
        "    super(Word2Vec, self).__init__()\n",
        "    self.target_embedding = layers.Embedding(vocab_size,\n",
        "                                      embedding_dim,\n",
        "                                      name=\"w2v_embedding\")\n",
        "    self.context_embedding = layers.Embedding(vocab_size,\n",
        "                                       embedding_dim)\n",
        "\n",
        "  def call(self, pair):\n",
        "    target, context = pair\n",
        "    # target: (batch, dummy?)  # The dummy axis doesn't exist in TF2.7+\n",
        "    # context: (batch, context)\n",
        "    if len(target.shape) == 2:\n",
        "      target = tf.squeeze(target, axis=1)\n",
        "    # target: (batch,)\n",
        "    word_emb = self.target_embedding(target)\n",
        "    # word_emb: (batch, embed)\n",
        "    context_emb = self.context_embedding(context)\n",
        "    # context_emb: (batch, context, embed)\n",
        "    dots = tf.einsum('be,bce->bc', word_emb, context_emb)\n",
        "    # dots: (batch, context)\n",
        "    return dots"
      ]
    },
    {
      "cell_type": "markdown",
      "metadata": {
        "id": "-RLKz9LFECXu"
      },
      "source": [
        "### Define loss function and compile model\n"
      ]
    },
    {
      "cell_type": "markdown",
      "metadata": {
        "id": "I3Md-9QanqBM"
      },
      "source": [
        "For simplicity, you can use `tf.keras.losses.CategoricalCrossEntropy` as an alternative to the negative sampling loss. If you would like to write your own custom loss function, you can also do so as follows:\n",
        "\n",
        "``` python\n",
        "def custom_loss(x_logit, y_true):\n",
        "      return tf.nn.sigmoid_cross_entropy_with_logits(logits=x_logit, labels=y_true)\n",
        "```\n",
        "\n",
        "It's time to build your model! Instantiate your word2vec class with an embedding dimension of 128 (you could experiment with different values). Compile the model with the `tf.keras.optimizers.Adam` optimizer."
      ]
    },
    {
      "cell_type": "code",
      "execution_count": null,
      "metadata": {
        "id": "ekQg_KbWnnmQ"
      },
      "outputs": [],
      "source": [
        "embedding_dim = 128\n",
        "word2vec = Word2Vec(vocab_size, embedding_dim)\n",
        "word2vec.compile(optimizer='adam',\n",
        "                 loss=tf.keras.losses.CategoricalCrossentropy(from_logits=True),\n",
        "                 metrics=['accuracy'])"
      ]
    },
    {
      "cell_type": "markdown",
      "metadata": {
        "id": "P3MUMrluqNX2"
      },
      "source": [
        "Also define a callback to log training statistics for TensorBoard:"
      ]
    },
    {
      "cell_type": "code",
      "execution_count": null,
      "metadata": {
        "id": "9d-ftBCeEZIR"
      },
      "outputs": [],
      "source": [
        "tensorboard_callback = tf.keras.callbacks.TensorBoard(log_dir=\"logs\")"
      ]
    },
    {
      "cell_type": "markdown",
      "metadata": {
        "id": "h5wEBotlGZ7B"
      },
      "source": [
        "Train the model on the `dataset` for some number of epochs:"
      ]
    },
    {
      "cell_type": "code",
      "execution_count": null,
      "metadata": {
        "id": "gmC1BJalEZIY",
        "colab": {
          "base_uri": "https://localhost:8080/"
        },
        "outputId": "7e44698d-3faa-49ce-fd21-b0ead3c89f1d"
      },
      "outputs": [
        {
          "output_type": "stream",
          "name": "stdout",
          "text": [
            "Epoch 1/20\n",
            "4/4 [==============================] - 1s 15ms/step - loss: 1.6083 - accuracy: 0.2478\n",
            "Epoch 2/20\n",
            "4/4 [==============================] - 0s 12ms/step - loss: 1.5989 - accuracy: 0.5977\n",
            "Epoch 3/20\n",
            "4/4 [==============================] - 0s 16ms/step - loss: 1.5890 - accuracy: 0.8386\n",
            "Epoch 4/20\n",
            "4/4 [==============================] - 0s 12ms/step - loss: 1.5773 - accuracy: 0.9453\n",
            "Epoch 5/20\n",
            "4/4 [==============================] - 0s 12ms/step - loss: 1.5630 - accuracy: 0.9795\n",
            "Epoch 6/20\n",
            "4/4 [==============================] - 0s 12ms/step - loss: 1.5454 - accuracy: 0.9871\n",
            "Epoch 7/20\n",
            "4/4 [==============================] - 0s 11ms/step - loss: 1.5241 - accuracy: 0.9883\n",
            "Epoch 8/20\n",
            "4/4 [==============================] - 0s 13ms/step - loss: 1.4984 - accuracy: 0.9871\n",
            "Epoch 9/20\n",
            "4/4 [==============================] - 0s 13ms/step - loss: 1.4681 - accuracy: 0.9861\n",
            "Epoch 10/20\n",
            "4/4 [==============================] - 0s 12ms/step - loss: 1.4326 - accuracy: 0.9861\n",
            "Epoch 11/20\n",
            "4/4 [==============================] - 0s 12ms/step - loss: 1.3920 - accuracy: 0.9849\n",
            "Epoch 12/20\n",
            "4/4 [==============================] - 0s 11ms/step - loss: 1.3460 - accuracy: 0.9839\n",
            "Epoch 13/20\n",
            "4/4 [==============================] - 0s 11ms/step - loss: 1.2949 - accuracy: 0.9832\n",
            "Epoch 14/20\n",
            "4/4 [==============================] - 0s 13ms/step - loss: 1.2391 - accuracy: 0.9810\n",
            "Epoch 15/20\n",
            "4/4 [==============================] - 0s 12ms/step - loss: 1.1792 - accuracy: 0.9792\n",
            "Epoch 16/20\n",
            "4/4 [==============================] - 0s 11ms/step - loss: 1.1160 - accuracy: 0.9783\n",
            "Epoch 17/20\n",
            "4/4 [==============================] - 0s 11ms/step - loss: 1.0506 - accuracy: 0.9771\n",
            "Epoch 18/20\n",
            "4/4 [==============================] - 0s 13ms/step - loss: 0.9842 - accuracy: 0.9766\n",
            "Epoch 19/20\n",
            "4/4 [==============================] - 0s 15ms/step - loss: 0.9180 - accuracy: 0.9753\n",
            "Epoch 20/20\n",
            "4/4 [==============================] - 0s 11ms/step - loss: 0.8533 - accuracy: 0.9751\n"
          ]
        },
        {
          "output_type": "execute_result",
          "data": {
            "text/plain": [
              "<keras.src.callbacks.History at 0x7a83b2106350>"
            ]
          },
          "metadata": {},
          "execution_count": 162
        }
      ],
      "source": [
        "word2vec.fit(dataset, epochs=20, callbacks=[tensorboard_callback])"
      ]
    },
    {
      "cell_type": "markdown",
      "metadata": {
        "id": "wze38jG57XvZ"
      },
      "source": [
        "TensorBoard now shows the word2vec model's accuracy and loss:"
      ]
    },
    {
      "cell_type": "code",
      "execution_count": null,
      "metadata": {
        "id": "22E9eqS55rgz",
        "colab": {
          "base_uri": "https://localhost:8080/",
          "height": 821
        },
        "outputId": "a5390465-f1d5-4cb6-9155-4de91be7f353"
      },
      "outputs": [],
      "source": [
        "#docs_infra: no_execute\n",
        "%tensorboard --logdir logs"
      ]
    },
    {
      "cell_type": "markdown",
      "metadata": {
        "id": "awF3iRQCZOLj"
      },
      "source": [
        "<!-- <img class=\"tfo-display-only-on-site\" src=\"images/word2vec_tensorboard.png\"/> -->"
      ]
    },
    {
      "cell_type": "markdown",
      "metadata": {
        "id": "TaDW2tIIz8fL"
      },
      "source": [
        "## Embedding lookup and analysis"
      ]
    },
    {
      "cell_type": "markdown",
      "metadata": {
        "id": "Zp5rv01WG2YA"
      },
      "source": [
        "Obtain the weights from the model using `Model.get_layer` and `Layer.get_weights`. The `TextVectorization.get_vocabulary` function provides the vocabulary to build a metadata file with one token per line."
      ]
    },
    {
      "cell_type": "markdown",
      "metadata": {
        "id": "gWzdmUzS8Sl4"
      },
      "source": [
        "Create and save the vectors and metadata files:"
      ]
    },
    {
      "cell_type": "markdown",
      "metadata": {
        "id": "1T8KcThhIU8-"
      },
      "source": [
        "Download the `vectors.tsv` and `metadata.tsv` to analyze the obtained embeddings in the [Embedding Projector](https://projector.tensorflow.org/):"
      ]
    },
    {
      "cell_type": "code",
      "execution_count": null,
      "metadata": {
        "id": "lUsjQOKMIV2z"
      },
      "outputs": [],
      "source": [
        "try:\n",
        "  from google.colab import files\n",
        "  files.download('vectors.tsv')\n",
        "  files.download('metadata.tsv')\n",
        "except Exception:\n",
        "  pass"
      ]
    },
    {
      "cell_type": "markdown",
      "metadata": {
        "id": "iS_uMeMw3Xpj"
      },
      "source": [
        "## Next steps\n"
      ]
    },
    {
      "cell_type": "markdown",
      "metadata": {
        "id": "BSgAZpwF5xF_"
      },
      "source": [
        "This tutorial has shown you how to implement a skip-gram word2vec model with negative sampling from scratch and visualize the obtained word embeddings.\n",
        "\n",
        "* To learn more about word vectors and their mathematical representations, refer to these [notes](https://web.stanford.edu/class/cs224n/readings/cs224n-2019-notes01-wordvecs1.pdf).\n",
        "\n",
        "* To learn more about advanced text processing, read the [Transformer model for language understanding](https://www.tensorflow.org/tutorials/text/transformer) tutorial.\n",
        "\n",
        "* If you’re interested in pre-trained embedding models, you may also be interested in [Exploring the TF-Hub CORD-19 Swivel Embeddings](https://www.tensorflow.org/hub/tutorials/cord_19_embeddings_keras), or the [Multilingual Universal Sentence Encoder](https://www.tensorflow.org/hub/tutorials/cross_lingual_similarity_with_tf_hub_multilingual_universal_encoder).\n",
        "\n",
        "* You may also like to train the model on a new dataset (there are many available in [TensorFlow Datasets](https://www.tensorflow.org/datasets)).\n"
      ]
    }
  ],
  "metadata": {
    "colab": {
      "provenance": []
    },
    "kernelspec": {
      "display_name": "Python 3",
      "name": "python3"
    }
  },
  "nbformat": 4,
  "nbformat_minor": 0
}